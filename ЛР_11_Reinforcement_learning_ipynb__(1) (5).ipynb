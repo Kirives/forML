{
  "cells": [
    {
      "cell_type": "markdown",
      "metadata": {
        "id": "m2s4kN_QPQVe"
      },
      "source": [
        "# Введение в обучение с подкреплением  (Reinforcement Learning)\n",
        "\n",
        "\n",
        "<center>\n",
        "<img src=\"https://raw.githubusercontent.com/jcformanek/jcformanek.github.io/master/docs/assets/images/rl_in_space.png\" width=\"100%\" />\n",
        "</center>\n",
        "\n",
        "\n",
        "\n",
        "**Введение**\n",
        "\n",
        "На этом семинаре мы изучим обучение с подкреплением - тип машинного обучения без учителя, где агент учится выбирать действия, которые приводят к максимальному вознаграждению в долгосрочной перспективе. Обучение с подкреплением используется в широком спектре сложных задач, в том числе - в видеоиграх, например, [Atari](https://www.deepmind.com/blog/agent57-outperforming-the-human-atari-benchmark), [StarCraft II](https://www.deepmind.com/blog/alphastar-mastering-the-real-time-strategy-game-starcraft-ii) и [Dota II](https://openai.com/five/).\n",
        "\n",
        "На семинаре изучим классическую среду - [CartPole](https://www.gymlibrary.ml/environments/classic_control/cart_pole/), где агент должен научиться балансировать шестом на тележке (см лекцию), используя несколько различных подходов RL. По пути вы познакомитесь с некоторыми из самых важных концепций и терминологии в RL.\n",
        "\n",
        "**Темы:**\n",
        "* Reinforcement Learning (RL, Обучение с подкреплением)\n",
        "* Random Policy Search (Случайный поиск политики)\n",
        "* Policy Gradient (Градиент политики)\n",
        "* Q-Learning\n",
        "\n",
        "\n",
        "**Что надо сделать для лучшего понимания:**\n",
        "\n",
        "* почитать про библиотеку [JAX](https://github.com/google/jax).\n",
        "* вспомнить нейроки.\n",
        "\n"
      ]
    },
    {
      "cell_type": "markdown",
      "metadata": {
        "id": "6EqhIg1odqg0"
      },
      "source": [
        "### Настраиваем среду"
      ]
    },
    {
      "cell_type": "code",
      "execution_count": 6,
      "metadata": {
        "id": "4boGA9rYdt9l"
      },
      "outputs": [],
      "source": [
        "# @title Установка необходимых пакетов (надо просто запустить!) { display-mode: \"form\" }\n",
        "# @markdown Может занять несколько минут\n",
        "%%capture\n",
        "!pip install jaxlib\n",
        "!pip install jax\n",
        "!pip install git+https://github.com/deepmind/dm-haiku\n",
        "!pip install gym==0.25\n",
        "!pip install gym[box2d]\n",
        "!pip install optax\n",
        "!pip install matplotlib\n",
        "!pip install chex\n",
        "!pip install gym[classic_control]"
      ]
    },
    {
      "cell_type": "code",
      "execution_count": 7,
      "metadata": {
        "id": "gwbqggmcRjMy"
      },
      "outputs": [],
      "source": [
        "# @title Импорт необходимых пакетов (просто запустите ячейку) { display-mode: \"form\" }\n",
        "%%capture\n",
        "import copy\n",
        "from shutil import rmtree # deleting directories\n",
        "import random\n",
        "import collections # useful data structures\n",
        "import numpy as np\n",
        "import gym # reinforcement learning environments\n",
        "from gym.wrappers import RecordVideo\n",
        "import jax\n",
        "import jax.numpy as jnp # jax numpy\n",
        "import haiku as hk # jax neural network library\n",
        "import optax # jax optimizer library\n",
        "import matplotlib.pyplot as plt # graph plotting library\n",
        "from IPython.display import HTML\n",
        "from base64 import b64encode\n",
        "import chex\n",
        "\n",
        "# Hide warnings\n",
        "import warnings\n",
        "warnings.filterwarnings('ignore')"
      ]
    },
    {
      "cell_type": "markdown",
      "metadata": {
        "id": "-ZUp8i37dFbU"
      },
      "source": [
        "## 1. Ключевые концепции обучения с подкреплением\n",
        "\n",
        "Обучение с подкреплением (RL) является подразделом машинного обучения (ML). В отличие от таких областей, как контролируемое обучение, где мы даем примеры ожидаемого поведения нашим моделям, RL фокусируется на *целеориентированном* обучении из взаимодействий методом проб и ошибок. Алгоритмы RL изучают, что делать (т. е. какие оптимальные действия предпринять) в среде, чтобы максимизировать некий сигнал вознаграждения. В таких условиях, как видеоигра, сигналом вознаграждения может быть счет игры, т. е. алгоритмы RL будут пытаться максимизировать счет в игре, выбирая лучшие действия.\n",
        "\n",
        "<center>\n",
        "<img src=\"https://pettingzoo.farama.org/_images/environments-demo.gif\" width=\"40%\" />\n",
        "</center>\n",
        "\n",
        "[*Image Source*](https://pettingzoo.farama.org/)\n",
        "\n",
        "Другими словами, в RL у нас есть **агент**, который воспринимает **наблюдение** $o_t$ текущего состояния $s_t$ **окружающей среды** и должен выбрать **действие** $a_t$ для выполнения.\n",
        "\n",
        "Затем окружающая среда переходит в новое состояние $s_{t+1}$ в ответ на действие агента, а также дает агенту скалярное вознаграждение $r_t$, чтобы указать, насколько хорошим или плохим было выбранное действие, учитывая состояние окружающей среды.\n",
        "\n",
        "Целью в RL является максимизация агентом суммы вознаграждения, которое он получает от окружающей среды с течением времени. Нижний индекс $t$ используется для указания номера временного шага, т. е. $s_0$ - это состояние окружающей среды на начальном временном шаге, а $a_{99}$ - это действие агента на $99-м$ временном шаге."
      ]
    },
    {
      "cell_type": "markdown",
      "metadata": {
        "id": "Ghgy69hFRjMz"
      },
      "source": [
        "### Среда - OpenAI Gym\n",
        "Как упоминалось выше, среда получает от агента действие $a_t$ и возвращает вознаграждение $r_t$ и наблюдение $o_t$.\n",
        "\n",
        "OpenAI разработал пакет для Python под названием **Gym**, который включает реализации популярных сред и простой интерфейс для взаимодействия агента RL. Чтобы использовать поддерживаемую [среду gym](https://www.gymlibrary.ml/), все, что вам нужно сделать, это передать имя среды в функцию  `gym.make(<environment_name>)`.\n",
        "\n",
        "В этом уроке мы будем использовать простую среду под названием **CartPole**. В CartPole задача агента — научиться балансировать на шесте как можно дольше, перемещая тележку *влево* или *вправо*.\n",
        "\n",
        "<img src=\"https://user-images.githubusercontent.com/10854026/32486103-f15f19de-c3a5-11e7-81de-0605df939497.gif\" width=\"50%\" />"
      ]
    },
    {
      "cell_type": "code",
      "execution_count": 8,
      "metadata": {
        "id": "WfxzajMYRjMz"
      },
      "outputs": [],
      "source": [
        "# Create the environment\n",
        "env_name = \"CartPole-v0\"\n",
        "env = gym.make(env_name)"
      ]
    },
    {
      "cell_type": "markdown",
      "metadata": {
        "id": "y_BbftaJj3zu"
      },
      "source": [
        "### Состояние (States) и Наблюдение (Observations) - $s_t$ and $o_t$\n",
        "\n",
        "В RL агент воспринимает наблюдение за состоянием среды. В некоторых настройках наблюдение может включать всю информацию, лежащую в основе состояния среды. Такая среда называется **полностью наблюдаемой**. В других настройках агент может получать только частичную информацию о состоянии среды в своем наблюдении. Такая среда называется **частично наблюдаемой**.\n",
        "\n",
        "В оставшейся части этого руководства мы будем предполагать, что среда полностью наблюдаема, и поэтому будем использовать состояние $s_t$ и наблюдение $o_t$ взаимозаменяемо. В Gym мы получаем начальное наблюдение из среды, вызывая функцию `env.reset()`."
      ]
    },
    {
      "cell_type": "code",
      "execution_count": 9,
      "metadata": {
        "id": "HdS8nqOgRjM0",
        "colab": {
          "base_uri": "https://localhost:8080/"
        },
        "outputId": "7b807e26-fb78-4f95-d1b9-c06e1cb75fb9"
      },
      "outputs": [
        {
          "output_type": "stream",
          "name": "stdout",
          "text": [
            "Initial State:: [-0.04084865  0.03342889 -0.04681497  0.02768453]\n",
            "Environment Obs Space Shape: (4,)\n"
          ]
        }
      ],
      "source": [
        "# Reset the environment\n",
        "s_0 = env.reset()\n",
        "print(\"Initial State::\", s_0)\n",
        "\n",
        "# Get environment obs space\n",
        "obs_shape = env.observation_space.shape\n",
        "print(\"Environment Obs Space Shape:\", obs_shape)"
      ]
    },
    {
      "cell_type": "markdown",
      "metadata": {
        "id": "pUNX6mbotABo"
      },
      "source": [
        "В CartPole состояние окружающей среды представлено четырьмя числами: *угловое положение полюса, угловая скорость полюса, положение тележки, скорость тележки*."
      ]
    },
    {
      "cell_type": "markdown",
      "metadata": {
        "id": "hL1Nkgy7nUfn"
      },
      "source": [
        "### Действия (Actions) - $a_t$\n",
        "\n",
        "В RL действия обычно либо **дискретные**, либо **непрерывные**. Непрерывные действия задаются вектором действительных чисел. Дискретные действия задаются целочисленным значением. В средах, где мы можем подсчитать конечный набор действий, мы обычно используем дискретные действия.\n",
        "\n",
        "В CartPole есть только два действия: *влево* и *вправо*. Таким образом, действия могут быть представлены целыми числами $0$ и $1$. В gym мы можем легко получить список возможных действий следующим образом:"
      ]
    },
    {
      "cell_type": "code",
      "execution_count": 10,
      "metadata": {
        "id": "uOLZqU_LpIXh",
        "colab": {
          "base_uri": "https://localhost:8080/"
        },
        "outputId": "186be148-ebdf-4408-eced-a3b369a3c611"
      },
      "outputs": [
        {
          "output_type": "stream",
          "name": "stdout",
          "text": [
            "Environment action space: Discrete(2)\n",
            "Number of actions: 2\n"
          ]
        }
      ],
      "source": [
        "# Get action space - e.g. discrete or continuous\n",
        "print(f\"Environment action space: {env.action_space}\")\n",
        "\n",
        "# Get num actions\n",
        "num_actions = env.action_space.n\n",
        "print(f\"Number of actions: {num_actions}\")"
      ]
    },
    {
      "cell_type": "markdown",
      "metadata": {
        "id": "tRsflxbDpoPm"
      },
      "source": [
        "### Политика агента (The Agent's Policy) - $\\pi$\n",
        "\n",
        "В RL агент выбирает действия на основе полученных наблюдений. Мы можем представить процесс выбора действия агента как функцию, которая принимает наблюдение в качестве входных данных и возвращает действие в качестве выходных данных. В RL мы обычно называем эту функцию **политикой** агента и обозначаем ее $\\pi(s_t)=a_t$. В RL мы обычно параметризуем нашу политику каким-либо образом, а затем пытаемся узнать оптимальные параметры. Параметризованная политика обычно обозначается $\\pi_\\theta$, где $\\theta$ — это набор параметров.\n",
        "\n",
        "**Упражнение 1:** В качестве упражнения давайте реализуем простую политику, которая принимает набор параметров и наблюдение в качестве входных данных и возвращает действие. Предположим, что наблюдение — это вектор из четырех чисел, как наблюдение CartPole, и что действие должно быть либо $0$, либо $1$. Предположим также, что параметры — это вектор из четырех действительных чисел. Тогда действие должно быть вычислено следующим образом.\n",
        "\n",
        "\n",
        "1. Вычислите [скалярное произведение векторов](https://www.mathsisfun.com/algebra/vectors-dot-product.html) между наблюдением и параметрами.\n",
        "2. Если результат больше нуля, верните действие $1$.\n",
        "3. В противном случае верните действие $0$.\n",
        "\n",
        "В этом упражнении мы постараемся использовать JAX как можно чаще. Поэтому постарайтесь использовать методы JAX для этой задачи. Ниже приведены некоторые полезные методы, которые вы можете использовать. Вам нужно будет завершить код в блоке ниже, заменив `...` правильным кодом.\n",
        "\n",
        "\n",
        "**Полезные методы:**\n",
        "* Вычислите скалярное произведение векторов с помощью `jax.numpy.dot` ([docs](https://jax.readthedocs.io/en/latest/_autosummary/jax.numpy.dot.html)).\n",
        "\n",
        "* Когда вы пытаетесь условно присвоить значение $0$ или $1$ действию на основе результата скалярного произведения, вам следует использовать `jax.lax.select` ([docs](https://jax.readthedocs.io/en/latest/_autosummary/jax.lax.select.html#jax.lax.select)).\n",
        "\n",
        "Метод `jax.lax.select` принимает три аргумента в качестве входных данных. Первый аргумент — это оператор, который будет оцениваться как `True` или `False`.\n",
        "\n",
        "Если оператор равен `True`, то `jax.lax.select` вернет свой второй аргумент.\n",
        "\n",
        "Если оператор имеет значение `False`, `jax.lax.select` вернет свой третий аргумент.\n",
        "\n"
      ]
    },
    {
      "cell_type": "code",
      "execution_count": 97,
      "metadata": {
        "id": "KSGCd7XB1z8k"
      },
      "outputs": [],
      "source": [
        "import jax.numpy as jnp\n",
        "import jax.lax as lax\n",
        "\n",
        "def linear_policy(params, obs):\n",
        "\n",
        "    # Вычисление скалярного произведения\n",
        "    dot_product_result = jnp.dot(params, obs)\n",
        "\n",
        "    # Выбор действия: 1, если результат > 0, иначе 0\n",
        "    action = lax.select(dot_product_result > 0, 1, 0)\n",
        "\n",
        "    return action\n"
      ]
    },
    {
      "cell_type": "code",
      "execution_count": 12,
      "metadata": {
        "id": "9EnnBvceb1f3",
        "colab": {
          "base_uri": "https://localhost:8080/"
        },
        "outputId": "b7b0c1cf-fab2-41b7-e7f3-73a88aebc5d2"
      },
      "outputs": [
        {
          "output_type": "stream",
          "name": "stdout",
          "text": [
            "Your function is correct!\n"
          ]
        }
      ],
      "source": [
        "# @title Проверка упр 1  { display-mode: \"form\" }\n",
        "\n",
        "def check_linear_policy(linear_policy):\n",
        "  fixed_obs = jnp.array([1,1,2,4])\n",
        "\n",
        "  # check case1 - negative dot product.\n",
        "  # weights\n",
        "  params1 = jnp.array([1,1,1,1])\n",
        "  params2 = jnp.array([-1,-1,-1,-1])\n",
        "\n",
        "  hint1 = f\"Неправильный ответ, ваша линейная политика неверна. Действие при \\\n",
        "obs={fixed_obs} и params={params1} должно быть 1\"\n",
        "\n",
        "  hint2 = f\"Неправильный ответ, ваша линейная политика неверна. Действие при \\\n",
        "obs={fixed_obs} и params={params2} должно быть 0\"\n",
        "\n",
        "  hint = None\n",
        "  if linear_policy(params1, fixed_obs) != 1:\n",
        "    hint = hint1\n",
        "  elif linear_policy(params2, fixed_obs) != 0:\n",
        "    hint = hint2\n",
        "\n",
        "  if hint is not None:\n",
        "    print(hint)\n",
        "  else:\n",
        "    print(\"Your function is correct!\")\n",
        "\n",
        "try:\n",
        "  check_linear_policy(linear_policy)\n",
        "except Exception as e:\n",
        "    print(\"An Error Occured: {}\".format(e))"
      ]
    },
    {
      "cell_type": "markdown",
      "metadata": {
        "id": "PkuvT-jf6Ieh"
      },
      "source": [
        "### Функция перехода среды - $P$\n",
        "\n",
        "Теперь, когда у нас есть политика, мы можем передавать действия от агента среде. Затем среда перейдет в новое состояние в ответ на действие агента.\n",
        "\n",
        "В RL мы моделируем этот процесс с помощью **функции перехода состояния** $P$, которая принимает текущее состояние $s_t$ и действие $a_t$ в качестве входных данных и возвращает следующее состояние $s_{t+1}$ в качестве выходных данных:\n",
        "\n",
        "<center>\n",
        "$s_{t+1}=P(s_t, a_t)$\n",
        "</center>\n",
        "\n",
        "В gym мы можем передавать действия среде, вызывая функцию `env.step(<action>)`. Затем функция вернет четыре значения:\n",
        "- **следующее наблюдение**\n",
        "- **награду** за выполненное действие\n",
        "- логический флаг, указывающий, **завершена** игра\n",
        "- некоторую **дополнительную** информацию."
      ]
    },
    {
      "cell_type": "code",
      "execution_count": 13,
      "metadata": {
        "id": "hh0j9-Tk7olb",
        "colab": {
          "base_uri": "https://localhost:8080/"
        },
        "outputId": "f0d579e0-1d86-49b2-e729-82ac33274e20"
      },
      "outputs": [
        {
          "output_type": "stream",
          "name": "stdout",
          "text": [
            "Observation: [ 0.00170538  0.00824518 -0.04172128 -0.00608568]\n",
            "Action: 0\n",
            "Next observation: [ 0.00187029 -0.18625437 -0.04184299  0.27314726]\n",
            "Reward: 1.0\n",
            "Game is done: False\n"
          ]
        }
      ],
      "source": [
        "# Get the initial obs by resetting the env\n",
        "initial_obs = env.reset()\n",
        "\n",
        "# Randomly sample actions from env\n",
        "action = env.action_space.sample()\n",
        "\n",
        "# Step the environment\n",
        "next_obs, reward, done, info = env.step(action)\n",
        "\n",
        "print(\"Observation:\", initial_obs)\n",
        "print(\"Action:\", action)\n",
        "print(\"Next observation:\", next_obs)\n",
        "print(\"Reward:\", reward)\n",
        "print(\"Game is done:\", done)"
      ]
    },
    {
      "cell_type": "markdown",
      "metadata": {
        "id": "bX9iZtu48UYn"
      },
      "source": [
        "### Возврат эпизода - $R_t$\n",
        "\n",
        "В RL мы обычно разбиваем взаимодействие агента с окружающей средой на **эпизоды**. Сумма всех вознаграждений, собранных во время эпизода, - это то, что мы называем **возвратом** эпизода - $R_t$:\n",
        "\n",
        "<center>\n",
        "$R_t=\\sum_{t=0}^Tr_t$,\n",
        "</center>\n",
        "\n",
        "где $r_t$ - это вознаграждение в момент времени $t$, а $T$ - это последний временной шаг. Цель в RL - выбрать действия, которые максимизируют этот ожидаемый будущий возврат $R_t$."
      ]
    },
    {
      "cell_type": "markdown",
      "metadata": {
        "id": "y6KZA1Nq9p47"
      },
      "source": [
        "### Цикл агент-среда\n",
        "Теперь, когда мы знаем, что такое политика, и знаем, как пошагово проходить среду, давайте закроем цикл агент-среда.\n",
        "\n",
        "**Упражнение 2:** Напишите функцию, которая запускает один эпизод CartPole, последовательно выбирая действия и пошагово проходя среду. Вам следует использовать линейную политику, которую мы определили ранее, для выбора действий. Функция должна отслеживать полученное вознаграждение и выводить возврат в конце эпизода.\n",
        "\n",
        "В CartPole агент получает вознаграждение `1` за каждый временной шаг, когда шест все еще стоит вертикально. Если шест падает, игра заканчивается, и агент больше не получает вознаграждения. Игра также заканчивается после `200` временных шагов, поэтому максимальное вознаграждение, которое может получить агент, составляет `200`."
      ]
    },
    {
      "cell_type": "code",
      "execution_count": 14,
      "metadata": {
        "id": "Buy0X7mi-gHP"
      },
      "outputs": [],
      "source": [
        "import numpy as np\n",
        "import jax.numpy as jnp\n",
        "from jax import lax\n",
        "\n",
        "def linear_policy(params, obs):\n",
        "    # Реализованная линейная политика из прошлого упражнения\n",
        "    dot_product_result = jnp.dot(params, obs)\n",
        "    action = lax.select(dot_product_result > 0, 1, 0)\n",
        "    return action\n",
        "\n",
        "def run_episode(env):\n",
        "    episode_return = 0  # Счетчик награды\n",
        "    done = False  # Изначально игра не завершена\n",
        "    params = jnp.array([1, -2, 2, -1])  # Фиксированные параметры политики\n",
        "\n",
        "    # Получить начальное наблюдение\n",
        "    obs = env.reset()\n",
        "\n",
        "    while not done:\n",
        "        # Вычислить действие с помощью линейной политики\n",
        "        action = linear_policy(params, obs)\n",
        "        action = np.array(action)  # Преобразовать действие в np.array\n",
        "\n",
        "        # Сделать шаг в среде\n",
        "        obs, reward, done, info = env.step(action)\n",
        "\n",
        "        # Накопить награду\n",
        "        episode_return += reward\n",
        "\n",
        "    return episode_return\n"
      ]
    },
    {
      "cell_type": "code",
      "execution_count": 15,
      "metadata": {
        "id": "bA2Orj9PVbKO",
        "colab": {
          "base_uri": "https://localhost:8080/"
        },
        "outputId": "c7127073-aded-419c-b9d7-f39acd3cc673"
      },
      "outputs": [
        {
          "output_type": "stream",
          "name": "stdout",
          "text": [
            "Looks correct!\n"
          ]
        }
      ],
      "source": [
        "# @title Проверка упр 2 (run me) { display-mode: \"form\" }\n",
        "\n",
        "try:\n",
        "  env.seed(42)\n",
        "  if run_episode(env) == 31:\n",
        "    print(\"Looks correct!\")\n",
        "  else:\n",
        "    print(\"Looks like your implementation might be wrong.\")\n",
        "except Exception as e:\n",
        "    print(\"An Error Occured: {}\".format(e))"
      ]
    },
    {
      "cell_type": "markdown",
      "metadata": {
        "id": "fUGdzHxJnZGl"
      },
      "source": [
        "В CartPole среда считается решенной, когда агент может надежно достичь возврата эпизода 500. Как вы можете видеть, наша текущая политика далека от оптимальной.\n",
        "\n",
        "Один из способов найти оптимальную политику — это случайным образом пробовать разные политики, пока не найдем оптимальную. Эта стратегия называется случайным поиском политики и может быть на удивление эффективной.\n",
        "\n",
        "Прежде чем мы реализуем случайный поиск политики, давайте быстро рассмотрим общий цикл обучения RL, который мы будем использовать для реализации алгоритмов в оставшейся части этого руководства.\n",
        "\n",
        "### Цикл обучения RL общего назначения\n",
        "Мы реализовали для вас цикл обучения RL общего назначения. Цикл обучения принимает несколько аргументов в качестве входных данных, но три наиболее важных для понимания — это `agent_select_action_func`, `agent_learn_func` и `agent_memory`.\n",
        "\n",
        "* `agent_select_action_func` — это функция, которую мы определяем и можем передать в цикл обучения. Функция принимает наблюдение и набор `agent_params` в качестве входных данных и должна возвращать действие.\n",
        "* `agent_learn_func` — это еще один метод, который мы определяем и передаем в цикл обучения. Он должен принимать параметры агента и некоторые «воспоминания» в качестве входных данных, а затем обновлять и возвращать агентам новые параметры.\n",
        "* `agent_memory` — это модуль общего назначения, который мы определяем, который может хранить некоторую релевантную информацию об опыте агента в среде, которую можно использовать в `agent_learn_func`.\n",
        "\n",
        "Ниже приведена функция цикла обучения, которую мы реализовали для вас. Вы можете просмотреть код и попытаться понять его, но это не обязательно. Таким образом, мы скрыли код по умолчанию, просто убедитесь, что вы запустили ячейку кода, прежде чем двигаться дальше, потому что цикл обучения далее в коде."
      ]
    },
    {
      "cell_type": "code",
      "execution_count": 16,
      "metadata": {
        "id": "ZWBwz3zMRjM0"
      },
      "outputs": [],
      "source": [
        "#@title Training loop (run me) { display-mode: \"form\" }\n",
        "\n",
        "# NamedTuple to store transitions\n",
        "Transition = collections.namedtuple(\"Transition\", [\"obs\", \"action\", \"reward\", \"next_obs\", \"done\"])\n",
        "\n",
        "# Training Loop\n",
        "def run_training_loop(env_name, agent_params, agent_select_action_func,\n",
        "    agent_actor_state=None, agent_learn_func=None, agent_learner_state=None,\n",
        "    agent_memory=None, num_episodes=1000, evaluator_period=100,\n",
        "    evaluation_episodes=8, learn_steps_per_episode=1,\n",
        "    train_every_timestep=False, video_subdir=\"\",):\n",
        "    \"\"\"\n",
        "    This function runs several episodes in an environment and periodically does\n",
        "    some agent learning and evaluation.\n",
        "\n",
        "    Args:\n",
        "        env: a gym environment.\n",
        "        agent_params: an object to store parameters that the agent uses.\n",
        "        agent_select_func: a function that does action selection for the agent.\n",
        "        agent_actor_state (optional): an object that stores the internal state\n",
        "            of the agents action selection function.\n",
        "        agent_learn_func (optional): a function that does some learning for the\n",
        "            agent by updating the agent parameters.\n",
        "        agent_learn_state (optional): an object that stores the internal state\n",
        "            of the agent learn function.\n",
        "        agent_memory (optional): an object for storing an retrieving historical\n",
        "            experience.\n",
        "        num_episodes: how many episodes to run.\n",
        "        evaluator_period: how often to run evaluation.\n",
        "        evaluation_episodes: how many evaluation episodes to run.\n",
        "        train_every_timestep: whether to train every timestep rather than at the end\n",
        "            of the episode.\n",
        "        video_subdir: subdirectory to store epsiode recordings.\n",
        "\n",
        "    Returns:\n",
        "        episode_returns: list of all the episode returns.\n",
        "        evaluator_episode_returns: list of all the evaluator episode returns.\n",
        "    \"\"\"\n",
        "\n",
        "    # Setup Cartpole environment and recorder\n",
        "    env = gym.make(env_name, render_mode=\"rgb_array\") # training environment\n",
        "    eval_env = gym.make(env_name, render_mode=\"rgb_array\") # evaluation environment\n",
        "\n",
        "    # Video dir\n",
        "    video_dir = \"./video\"+\"/\"+video_subdir\n",
        "\n",
        "    # Clear video dir\n",
        "    try:\n",
        "      rmtree(video_dir)\n",
        "    except:\n",
        "      pass\n",
        "\n",
        "    # Wrap in recorder\n",
        "    env = RecordVideo(env, video_dir+\"/train\", episode_trigger=lambda x: (x % evaluator_period) == 0)\n",
        "    eval_env = RecordVideo(eval_env, video_dir+\"/eval\", episode_trigger=lambda x: (x % evaluation_episodes) == 0)\n",
        "\n",
        "    # JAX random number generator\n",
        "    rng = hk.PRNGSequence(jax.random.PRNGKey(0))\n",
        "    env.seed(0) # seed environment for reproducability\n",
        "    random.seed(0)\n",
        "\n",
        "    episode_returns = [] # List to store history of episode returns.\n",
        "    evaluator_episode_returns = [] # List to store history of evaluator returns.\n",
        "    timesteps = 0\n",
        "    for episode in range(num_episodes):\n",
        "\n",
        "        # Reset environment.\n",
        "        obs = env.reset()\n",
        "        episode_return = 0\n",
        "        done = False\n",
        "\n",
        "        while not done:\n",
        "\n",
        "            # Agent select action.\n",
        "            action, agent_actor_state = agent_select_action_func(\n",
        "                                            next(rng),\n",
        "                                            agent_params,\n",
        "                                            agent_actor_state,\n",
        "                                            np.array(obs)\n",
        "                                        )\n",
        "\n",
        "            # Step environment.\n",
        "            next_obs, reward, done, _ = env.step(int(action))\n",
        "\n",
        "            # Pack into transition.\n",
        "            transition = Transition(obs, action, reward, next_obs, done)\n",
        "\n",
        "            # Add transition to memory.\n",
        "            if agent_memory: # check if agent has memory\n",
        "              agent_memory.push(transition)\n",
        "\n",
        "            # Add reward to episode return.\n",
        "            episode_return += reward\n",
        "\n",
        "            # Set obs to next obs before next environment step. CRITICAL!!!\n",
        "            obs = next_obs\n",
        "\n",
        "            # Increment timestep counter\n",
        "            timesteps += 1\n",
        "\n",
        "            # Maybe learn every timestep\n",
        "            if train_every_timestep and (timesteps % 4 == 0) and agent_memory and agent_memory.is_ready(): # Make sure memory is ready\n",
        "                # First sample memory and then pass the result to the learn function\n",
        "                memory = agent_memory.sample()\n",
        "                agent_params, agent_learner_state = agent_learn_func(\n",
        "                                                        next(rng),\n",
        "                                                        agent_params,\n",
        "                                                        agent_learner_state,\n",
        "                                                        memory\n",
        "                                                    )\n",
        "\n",
        "        episode_returns.append(episode_return)\n",
        "\n",
        "        # At the end of every episode we do a learn step.\n",
        "        if agent_memory and agent_memory.is_ready(): # Make sure memory is ready\n",
        "\n",
        "            for _ in range(learn_steps_per_episode):\n",
        "                # First sample memory and then pass the result to the learn function\n",
        "                memory = agent_memory.sample()\n",
        "                agent_params, agent_learner_state = agent_learn_func(\n",
        "                                                        next(rng),\n",
        "                                                        agent_params,\n",
        "                                                        agent_learner_state,\n",
        "                                                        memory\n",
        "                                                    )\n",
        "\n",
        "        if (episode % evaluator_period) == 0: # Do evaluation\n",
        "\n",
        "            evaluator_episode_return = 0\n",
        "            for eval_episode in range(evaluation_episodes):\n",
        "                obs = eval_env.reset()\n",
        "                done = False\n",
        "                while not done:\n",
        "                    action, _ = agent_select_action_func(\n",
        "                                    next(rng),\n",
        "                                    agent_params,\n",
        "                                    agent_actor_state,\n",
        "                                    np.array(obs),\n",
        "                                    evaluation=True\n",
        "                                )\n",
        "\n",
        "                    obs, reward, done, _ = eval_env.step(int(action))\n",
        "\n",
        "                    evaluator_episode_return += reward\n",
        "\n",
        "            evaluator_episode_return /= evaluation_episodes\n",
        "\n",
        "            evaluator_episode_returns.append(evaluator_episode_return)\n",
        "\n",
        "            logs = [\n",
        "                    f\"Episode: {episode}\",\n",
        "                    f\"Episode Return: {episode_return}\",\n",
        "                    f\"Average Episode Return: {np.mean(episode_returns[-20:])}\",\n",
        "                    f\"Evaluator Episode Return: {evaluator_episode_return}\"\n",
        "            ]\n",
        "\n",
        "            print(*logs, sep=\"\\t\") # Print the logs\n",
        "\n",
        "    env.close()\n",
        "    eval_env.close()\n",
        "\n",
        "    return episode_returns, evaluator_episode_returns"
      ]
    },
    {
      "cell_type": "markdown",
      "metadata": {
        "id": "CTPlIq4oDBPY"
      },
      "source": [
        "##2. Случайный поиск политики (RPS)\n",
        "В разделе 1 мы использовали фиксированный набор параметров для нашей политики. То есть мы не изучали параметры $\\pi$ $\\theta$, мы просто сохранили их фиксированными ( `params = [1,-2,2,-1]`).\n",
        "\n",
        "Теперь мы реализуем случайный поиск политики (RPS), который представляет собой алгоритм, который случайным образом пробует различные параметры политики и отслеживает лучшие параметры, найденные на данный момент. Мы скажем, что параметры политики $\\theta_A$ лучше параметров $\\theta_B$, если средний возврат эпизода, достигнутый за последние 20 эпизодов политикой с параметрами $\\theta_A$, больше, чем у политики с параметрами $\\theta_B$.\n",
        "\n",
        "Чтобы отслеживать «текущие» параметры, а также «лучшие» параметры, мы будем использовать [NamedTuple](https://www.geeksforgeeks.org/namedtuple-in-python/)."
      ]
    },
    {
      "cell_type": "code",
      "execution_count": 17,
      "metadata": {
        "id": "1DcaC-PQRjM1",
        "colab": {
          "base_uri": "https://localhost:8080/"
        },
        "outputId": "0e0ee4bc-5d35-4566-d2d0-9e16860496ea"
      },
      "outputs": [
        {
          "output_type": "stream",
          "name": "stdout",
          "text": [
            "Best params: [0. 0. 0. 0.]\n",
            "Current params: [-1. -1. -1. -1.]\n"
          ]
        }
      ],
      "source": [
        "# Parameter container for Random Policy Search\n",
        "RandomPolicySearchParams = collections.namedtuple(\"RandomPolicySearchParams\", [\"current\", \"best\"])\n",
        "\n",
        "# TEST: store two different sets of parameters\n",
        "current_params = np.ones(obs_shape) * -1\n",
        "best_params = np.zeros(obs_shape)\n",
        "rps_params = RandomPolicySearchParams(current_params, best_params)\n",
        "\n",
        "# How to access the best or current params.\n",
        "print(f\"Best params: {rps_params.best}\")\n",
        "print(f\"Current params: {rps_params.current}\")"
      ]
    },
    {
      "cell_type": "markdown",
      "metadata": {
        "id": "v91pDDzGex9a"
      },
      "source": [
        "Далее мы реализуем следующее:\n",
        "- **Функция выбора действия RPS** - определяет, как мы выбираем действия с учетом набора параметров.\n",
        "- **Модуль памяти RPS** - определяет, какой опыт хранить из взаимодействий со средой.\n",
        "- **Функция обучения RPS** - определяет, как мы обновляем и улучшаем параметры нашей политики."
      ]
    },
    {
      "cell_type": "markdown",
      "metadata": {
        "id": "0tExceGeGNYH"
      },
      "source": [
        "### Функция выбора действия RPS\n",
        "Давайте реализуем функцию с именем `random_policy_search_choose_action`, которую мы можем передать в цикл обучения. Функция должна принимать несколько аргументов, чтобы она могла хорошо взаимодействовать с нашим обобщенным циклом обучения, но вам нужно будет использовать только три из них - `params`, `obs` и `evaluation`.\n",
        "\n",
        "- `params` - это экземпляр `RandomPolicySearchParams` с \"current\" и \"best\".\n",
        "- `obs` - это последнее наблюдение из среды.\n",
        "- `evaluation` - это логическое значение, которое указывает, следует ли нам использовать параметры \"current\" или \"best\". Когда `evaluation==True`, мы должны использовать параметры \"best\", в противном случае мы должны использовать параметры \"current\".\n",
        "\n",
        "**Упражнение 3:** Реализуйте функцию `random_policy_search_choose_action`, как описано выше. Вам следует использовать метод `linear_policy`, который мы определили ранее. Вам также понадобится `jax.lax.select()` для условного возврата \"лучшего\" действия или \"текущего\" действия."
      ]
    },
    {
      "cell_type": "code",
      "execution_count": 96,
      "metadata": {
        "id": "1kmwT35JRjM1"
      },
      "outputs": [],
      "source": [
        "import jax.numpy as jnp\n",
        "from jax import lax\n",
        "\n",
        "def random_policy_search_choose_action(\n",
        "    key,\n",
        "    params,\n",
        "    actor_state,\n",
        "    obs,\n",
        "    evaluation=False\n",
        "):\n",
        "\n",
        "    # Распаковка параметров из кортежа\n",
        "    current_params, best_params = params\n",
        "\n",
        "    # Вычисление действий с помощью linear_policy\n",
        "    best_action = linear_policy(best_params, obs)\n",
        "    current_action = linear_policy(current_params, obs)\n",
        "\n",
        "    # Выбор действия на основе evaluation\n",
        "    action = lax.select(evaluation, best_action, current_action)\n",
        "\n",
        "    return action, actor_state\n"
      ]
    },
    {
      "cell_type": "code",
      "execution_count": 19,
      "metadata": {
        "id": "YE4xoAgyI3kG",
        "colab": {
          "base_uri": "https://localhost:8080/"
        },
        "outputId": "f17e5558-19d1-4ba2-d26f-83e7c2185bb7"
      },
      "outputs": [
        {
          "output_type": "stream",
          "name": "stdout",
          "text": [
            "Your function looks correct.\n"
          ]
        }
      ],
      "source": [
        "# @title Проверка упр 3 (run me) {display-mode: \"form\"}\n",
        "\n",
        "def check_random_policy_search_choose_action(choose_action):\n",
        "  key = None # not used\n",
        "  actor_state = None # not used\n",
        "\n",
        "  # obs\n",
        "  obs = np.ones(obs_shape)\n",
        "\n",
        "  evaluation=False\n",
        "  current_params = np.ones(obs_shape) * -1\n",
        "  best_params = np.ones(obs_shape)\n",
        "  rps_params = RandomPolicySearchParams(current_params, best_params)\n",
        "  action, actor_state = choose_action(key,rps_params,actor_state,obs,evaluation)\n",
        "  if action != 0:\n",
        "    return False\n",
        "\n",
        "  evaluation=True\n",
        "  current_params = np.ones(obs_shape) * -1\n",
        "  best_params = np.ones(obs_shape)\n",
        "  rps_params = RandomPolicySearchParams(current_params, best_params)\n",
        "  action, actor_state = choose_action(key,rps_params,actor_state,obs,evaluation)\n",
        "  if action != 1:\n",
        "    return False\n",
        "\n",
        "  return True\n",
        "\n",
        "try:\n",
        "  if check_random_policy_search_choose_action(random_policy_search_choose_action):\n",
        "    print(\"Your function looks correct.\")\n",
        "  else:\n",
        "    print(\"Your function looks incorrect.\")\n",
        "except Exception as e:\n",
        "    print(\"An Error Occured: {}\".format(e))"
      ]
    },
    {
      "cell_type": "markdown",
      "metadata": {
        "id": "6zu51ep7Sh0M"
      },
      "source": [
        "### Память агента RPS\n",
        "\n",
        "Для алгоритма поиска случайной политики нам нужно будет отслеживать средний возврат эпизода для последних 50 эпизодов. Помните, что мы сказали, что «текущие» параметры будут считаться «лучшими» параметрами, если средний возврат эпизода при использовании этих параметров больше предыдущего лучшего среднего возврата эпизода.\n",
        "\n",
        "Мы будем использовать интерфейс памяти общего назначения, который довольно прост. Модуль памяти должен иметь три метода. Первый — это функция `memory.push(<transition>)`, которая добавляет некоторую информацию о последнем переходе среды в память. Второй — это функция `memory.is_ready()`, которая проверяет, готова ли память к обучению. Наконец, функция `memory.sample()` должна возвращать последний набор воспоминаний, которые можно передать в `agent_learn_func`.\n",
        "\n",
        "#### Память среднего возврата эпизода\n",
        "Мы создали для вас простой модуль памяти агента. Он хранит `epsisode_returns` последних 20 эпизодов. Прочитайте нашу реализацию ниже и посмотрите, сможете ли вы ее понять. Метод `memory.sample()` возвращает средний возврат эпизода за последние 20 эпизодов."
      ]
    },
    {
      "cell_type": "code",
      "execution_count": 20,
      "metadata": {
        "id": "YVkTBIK5RjM1"
      },
      "outputs": [],
      "source": [
        "class AverageEpisodeReturnBuffer:\n",
        "\n",
        "    def __init__(self, num_episodes_to_store=50):\n",
        "        \"\"\"\n",
        "        This class implements an agent memory that stores the average episode\n",
        "        return over the last 50 episodes.\n",
        "        \"\"\"\n",
        "        self.num_episodes_to_store = num_episodes_to_store\n",
        "        self.episode_return_buffer = []\n",
        "        self.current_episode_return = 0\n",
        "\n",
        "    def push(self, transition):\n",
        "        self.current_episode_return += transition.reward\n",
        "\n",
        "        if transition.done: # If the episode is done\n",
        "            # Add episode return to buffer\n",
        "            self.episode_return_buffer.append(self.current_episode_return)\n",
        "\n",
        "            # Reset episode return\n",
        "            self.current_episode_return = 0\n",
        "\n",
        "\n",
        "    def is_ready(self):\n",
        "        return len(self.episode_return_buffer) == self.num_episodes_to_store\n",
        "\n",
        "    def sample(self):\n",
        "        average_episode_return = np.mean(self.episode_return_buffer)\n",
        "\n",
        "        # Clear episode return buffer\n",
        "        self.episode_return_buffer = []\n",
        "\n",
        "        return average_episode_return"
      ]
    },
    {
      "cell_type": "markdown",
      "metadata": {
        "id": "0oXBsSa2KjWE"
      },
      "source": [
        "### Функция обучения RPS\n",
        "Наконец, нам нужно реализовать функцию `random_policy_search_learn` для нашего алгоритма поиска случайной политики. Функция обучения довольно проста. Все, что нам нужно сделать, это проверить, лучше ли текущие параметры, чем лучшие параметры. Если они лучше, то установите лучшие параметры в качестве текущих параметров и случайным образом сгенерируйте новый набор текущих параметров.\n",
        "\n",
        "**Упражнение 4:** Напишите функцию для случайной генерации новых весов с использованием JAX. Веса должны быть выбраны из интервала `[-2,2]`.\n",
        "\n",
        "**Полезные функции:**\n",
        "*   `jax.random.uniform` ([docs](https://jax.readthedocs.io/en/latest/_autosummary/jax.random.uniform.html#jax.random.uniform))\n",
        "\n"
      ]
    },
    {
      "cell_type": "code",
      "execution_count": 94,
      "metadata": {
        "id": "8V2yFM2XMjGW"
      },
      "outputs": [],
      "source": [
        "import jax\n",
        "import jax.numpy as jnp\n",
        "\n",
        "def get_new_random_weights(random_key, old_weights, minval=-2.0, maxval=2.0):\n",
        "\n",
        "    new_params = jax.random.uniform(random_key,\n",
        "                                    shape=old_weights.shape,\n",
        "                                    dtype=old_weights.dtype,\n",
        "                                    minval=minval,\n",
        "                                    maxval=maxval)\n",
        "    return new_params\n"
      ]
    },
    {
      "cell_type": "code",
      "execution_count": 95,
      "metadata": {
        "id": "T8ifHTKGQlAd",
        "colab": {
          "base_uri": "https://localhost:8080/"
        },
        "outputId": "ba4ad61b-c0f0-4bf2-8e56-f0befec12a21"
      },
      "outputs": [
        {
          "output_type": "stream",
          "name": "stdout",
          "text": [
            "Function is correct!\n"
          ]
        }
      ],
      "source": [
        "# @title Проверка упр 4 (run me) {display-mode: \"form\"}\n",
        "\n",
        "def check_get_new_random_weights(get_new_random_weights):\n",
        "  old_weights = np.ones(obs_shape, \"float32\")\n",
        "  random_key = jax.random.PRNGKey(42)\n",
        "\n",
        "  # Case 1\n",
        "  new_weights = get_new_random_weights(random_key, old_weights, minval=-2.0, maxval=2.0)\n",
        "\n",
        "  if jnp.array_equal(new_weights, jnp.array([ 0.29657745,1.4265499, -1.7621555, -1.7505779 ])):\n",
        "    print(\"Function is correct!\")\n",
        "  else:\n",
        "    print(\"Something is wrong.\")\n",
        "\n",
        "try:\n",
        "  check_get_new_random_weights(get_new_random_weights)\n",
        "except Exception as e:\n",
        "    print(\"An Error Occured: {}\".format(e))"
      ]
    },
    {
      "cell_type": "markdown",
      "metadata": {
        "id": "2Djxc9j-LzkM"
      },
      "source": [
        "Наша функция обучения получает память в форме среднего возврата эпизода из `AverageEpisodeReturnMemory`, которую мы реализовали ранее. Мы можем использовать это для сравнения текущих параметров с лучшими параметрами. Но нам также нужно будет отслеживать лучший средний возврат эпизода для функции обучения. Для этого мы можем использовать аргумент `learn_state`, который передается в `agent_learn_func` в нашем цикле обучения. Как и в случае с `RandomPolicySearchParams`, мы будем использовать NamedTuple для хранения `best_average_episode_return` в `learn_state`."
      ]
    },
    {
      "cell_type": "code",
      "execution_count": 23,
      "metadata": {
        "id": "4cSH4uYmRjM2",
        "colab": {
          "base_uri": "https://localhost:8080/"
        },
        "outputId": "9c1c57a9-1fce-4436-e73e-41512e49f5d2"
      },
      "outputs": [
        {
          "output_type": "stream",
          "name": "stdout",
          "text": [
            "Initial best average episode return: -inf\n"
          ]
        }
      ],
      "source": [
        "# A NamedTuple to store the best average episode return so far\n",
        "RandomPolicyLearnState = collections.namedtuple(\n",
        "  \"RandomPolicyLearnState\",\n",
        "  [\"best_average_episode_return\"]\n",
        ")\n",
        "\n",
        "# Test\n",
        "initial_learn_state = RandomPolicyLearnState(best_average_episode_return=-float(\"inf\"))\n",
        "print(\"Initial best average episode return:\", initial_learn_state.best_average_episode_return)"
      ]
    },
    {
      "cell_type": "markdown",
      "metadata": {
        "id": "PxZXdP8bOu6b"
      },
      "source": [
        "Теперь у нас есть все необходимое для реализации функции `random_policy_search_learn`.\n",
        "\n",
        "**Упражнение 5:** Реализуйте функцию `random_policy_search_learn`. Функция должна проверять, лучше ли «текущие» параметры, чем «лучшие» параметры, сравнивая `current_average_episode_return` с `best_average_episode_return`. Функция также должна обновлять `learn_state`."
      ]
    },
    {
      "cell_type": "code",
      "execution_count": 93,
      "metadata": {
        "id": "Te_Q3qzmZcN_"
      },
      "outputs": [],
      "source": [
        "import jax\n",
        "import jax.numpy as jnp\n",
        "from jax import lax\n",
        "from collections import namedtuple\n",
        "\n",
        "RandomPolicySearchParams = namedtuple(\"RandomPolicySearchParams\", [\"current\", \"best\"])\n",
        "RandomPolicyLearnState = namedtuple(\"RandomPolicyLearnState\", [\"best_average_episode_return\"])\n",
        "\n",
        "def random_policy_search_learn(key, params, learn_state, memory):\n",
        "\n",
        "    best_params = params.best\n",
        "    current_params = params.current\n",
        "\n",
        "    # Получаем текущий и лучший возврат эпизода\n",
        "    current_average_episode_return = memory\n",
        "    best_average_episode_return = learn_state.best_average_episode_return\n",
        "\n",
        "    # Сравнение возвратов для обновления параметров\n",
        "    best_params = lax.select(\n",
        "        current_average_episode_return > best_average_episode_return,\n",
        "        current_params,\n",
        "        best_params\n",
        "    )\n",
        "\n",
        "    best_average_episode_return = lax.select(\n",
        "        current_average_episode_return > best_average_episode_return,\n",
        "        current_average_episode_return,\n",
        "        best_average_episode_return\n",
        "    )\n",
        "\n",
        "    # Генерация новых параметров\n",
        "    new_params = get_new_random_weights(key, current_params)\n",
        "\n",
        "    # Обновление структуры с параметрами\n",
        "    params = RandomPolicySearchParams(current=new_params, best=best_params)\n",
        "    learn_state = RandomPolicyLearnState(best_average_episode_return)\n",
        "\n",
        "    return params, learn_state\n"
      ]
    },
    {
      "cell_type": "code",
      "execution_count": 25,
      "metadata": {
        "id": "CXHV4k2iBLBF",
        "colab": {
          "base_uri": "https://localhost:8080/"
        },
        "outputId": "8b38ed2f-b3d6-47aa-adab-d9e8fbb3ab58"
      },
      "outputs": [
        {
          "output_type": "stream",
          "name": "stdout",
          "text": [
            "Your function looks correct.\n"
          ]
        }
      ],
      "source": [
        "#@title Проверка упр 5 {display-mode: \"form\"}\n",
        "\n",
        "params = RandomPolicySearchParams(np.ones(obs_shape, \"float32\"), np.ones(obs_shape, \"float32\") * -1)\n",
        "learn_state = RandomPolicyLearnState(10)\n",
        "memory = 11\n",
        "key = jax.random.PRNGKey(42)\n",
        "\n",
        "try:\n",
        "  new_params, new_learn_state = random_policy_search_learn(key, params, learn_state, memory)\n",
        "\n",
        "  if not jnp.array_equal(new_params.current, jnp.array([ 0.29657745,  1.4265499 , -1.7621555 , -1.7505779 ])):\n",
        "    print(\"Your function is incorrect.\")\n",
        "\n",
        "  elif not jnp.array_equal(new_params.best, jnp.array([1., 1., 1., 1.])):\n",
        "    print(\"Your function is incorrect.\")\n",
        "\n",
        "  elif new_learn_state.best_average_episode_return != 11:\n",
        "    print(\"Your function is incorrect.\")\n",
        "\n",
        "  else:\n",
        "    print(\"Your function looks correct.\")\n",
        "except Exception as e:\n",
        "    print(\"An Error Occured: {}\".format(e))"
      ]
    },
    {
      "cell_type": "markdown",
      "metadata": {
        "id": "5Ol_AxnMBdgP"
      },
      "source": [
        "### Цикл обучения RPS\n",
        "Теперь мы можем собрать все вместе, передав модуль `memory`, функцию `learn` и функцию `choose_action` в цикл обучения. Чтобы ускорить наш алгоритм, мы будем использовать `jax.jit` в функции `learn` и функции `choose_action`."
      ]
    },
    {
      "cell_type": "code",
      "execution_count": 26,
      "metadata": {
        "id": "Qx57tf7vRjM3",
        "colab": {
          "base_uri": "https://localhost:8080/",
          "height": 680
        },
        "outputId": "8351f8b3-2461-42cb-d1de-33be63593327"
      },
      "outputs": [
        {
          "output_type": "stream",
          "name": "stdout",
          "text": [
            "Starting training. This may take up to 5 minutes to complete.\n",
            "Episode: 0\tEpisode Return: 80.0\tAverage Episode Return: 80.0\tEvaluator Episode Return: 117.875\n",
            "Episode: 100\tEpisode Return: 51.0\tAverage Episode Return: 33.35\tEvaluator Episode Return: 139.125\n",
            "Episode: 200\tEpisode Return: 200.0\tAverage Episode Return: 43.35\tEvaluator Episode Return: 127.0\n",
            "Episode: 300\tEpisode Return: 10.0\tAverage Episode Return: 9.7\tEvaluator Episode Return: 129.125\n",
            "Episode: 400\tEpisode Return: 9.0\tAverage Episode Return: 72.0\tEvaluator Episode Return: 116.5\n",
            "Episode: 500\tEpisode Return: 10.0\tAverage Episode Return: 9.25\tEvaluator Episode Return: 145.375\n",
            "Episode: 600\tEpisode Return: 66.0\tAverage Episode Return: 11.85\tEvaluator Episode Return: 127.5\n",
            "Episode: 700\tEpisode Return: 53.0\tAverage Episode Return: 28.35\tEvaluator Episode Return: 150.625\n",
            "Episode: 800\tEpisode Return: 75.0\tAverage Episode Return: 12.85\tEvaluator Episode Return: 138.375\n",
            "Episode: 900\tEpisode Return: 33.0\tAverage Episode Return: 10.1\tEvaluator Episode Return: 148.0\n",
            "Episode: 1000\tEpisode Return: 9.0\tAverage Episode Return: 9.55\tEvaluator Episode Return: 149.0\n"
          ]
        },
        {
          "output_type": "display_data",
          "data": {
            "text/plain": [
              "<Figure size 640x480 with 1 Axes>"
            ],
            "image/png": "[encoded data removed]"
          },
          "metadata": {}
        }
      ],
      "source": [
        "# JIT the learn and choose action functions\n",
        "random_policy_search_learn_jit = jax.jit(random_policy_search_learn)\n",
        "random_policy_search_choose_action_jit = jax.jit(random_policy_search_choose_action)\n",
        "\n",
        "# Initialise the parameters\n",
        "initial_weights = np.ones(obs_shape, \"float32\")\n",
        "initial_params = RandomPolicySearchParams(initial_weights, initial_weights)\n",
        "\n",
        "# Initialise the learn state\n",
        "initial_learn_state = RandomPolicyLearnState(best_average_episode_return=-float(\"inf\"))\n",
        "\n",
        "# Initialise memory\n",
        "memory = AverageEpisodeReturnBuffer(num_episodes_to_store=50)\n",
        "\n",
        "# Run the training loop\n",
        "print(\"Starting training. This may take up to 5 minutes to complete.\")\n",
        "chex.clear_trace_counter()\n",
        "episode_return, evaluator_episode_returns = run_training_loop(\n",
        "                                        env_name,\n",
        "                                        initial_params,\n",
        "                                        random_policy_search_choose_action_jit,\n",
        "                                        None, # no actor state\n",
        "                                        random_policy_search_learn_jit,\n",
        "                                        initial_learn_state,\n",
        "                                        memory,\n",
        "                                        num_episodes=1001,\n",
        "                                        video_subdir=\"rps\"\n",
        "                                    )\n",
        "\n",
        "# Plot graph of evaluator episode returns\n",
        "plt.plot(np.linspace(0, 1000, len(evaluator_episode_returns)), evaluator_episode_returns)\n",
        "plt.title(\"Random Policy Search\")\n",
        "plt.xlabel(\"Episodes\")\n",
        "plt.ylabel(\"Episode Return\")\n",
        "plt.show()"
      ]
    },
    {
      "cell_type": "markdown",
      "metadata": {
        "id": "TG10FG6uS05A"
      },
      "source": [
        "Надеюсь, вы нашли набор оптимальных параметров на CartPole (возврат эпизода достигает `200`). В ячейке ниже вы можете посмотреть несколько видеороликов агента, выполняющего задание."
      ]
    },
    {
      "cell_type": "code",
      "execution_count": 44,
      "metadata": {
        "id": "KgayDJ7KWC4C",
        "colab": {
          "base_uri": "https://localhost:8080/",
          "height": 288
        },
        "outputId": "73edbba1-093e-4a70-88dd-524fbbd1c5b1"
      },
      "outputs": [
        {
          "output_type": "execute_result",
          "data": {
            "text/plain": [
              "<IPython.core.display.HTML object>"
            ],
            "text/html": [
              "\n",
              "<video width=400 controls>\n",
              "      <source src=\"data:video/mp4;base64,AAAAIGZ0eXBpc29tAAACAGlzb21pc28yYXZjMW1wNDEAAAAIZnJlZQAAJlttZGF0AAACrgYF//+q3EXpvebZSLeWLNgg2SPu73gyNjQgLSBjb3JlIDE2MyByMzA2MCA1ZGI2YWE2IC0gSC4yNjQvTVBFRy00IEFWQyBjb2RlYyAtIENvcHlsZWZ0IDIwMDMtMjAyMSAtIGh0dHA6Ly93d3cudmlkZW9sYW4ub3JnL3gyNjQuaHRtbCAtIG9wdGlvbnM6IGNhYmFjPTEgcmVmPTMgZGVibG9jaz0xOjA6MCBhbmFseXNlPTB4MzoweDExMyBtZT1oZXggc3VibWU9NyBwc3k9MSBwc3lfcmQ9MS4wMDowLjAwIG1peGVkX3JlZj0xIG1lX3JhbmdlPTE2IGNocm9tYV9tZT0xIHRyZWxsaXM9MSA4eDhkY3Q9MSBjcW09MCBkZWFkem9uZT0yMSwxMSBmYXN0X3Bza2lwPTEgY2hyb21hX3FwX29mZnNldD0tMiB0aHJlYWRzPTMgbG9va2FoZWFkX3RocmVhZHM9MSBzbGljZWRfdGhyZWFkcz0wIG5yPTAgZGVjaW1hdGU9MSBpbnRlcmxhY2VkPTAgYmx1cmF5X2NvbXBhdD0wIGNvbnN0cmFpbmVkX2ludHJhPTAgYmZyYW1lcz0zIGJfcHlyYW1pZD0yIGJfYWRhcHQ9MSBiX2JpYXM9MCBkaXJlY3Q9MSB3ZWlnaHRiPTEgb3Blbl9nb3A9MCB3ZWlnaHRwPTIga2V5aW50PTI1MCBrZXlpbnRfbWluPTI1IHNjZW5lY3V0PTQwIGludHJhX3JlZnJlc2g9MCByY19sb29rYWhlYWQ9NDAgcmM9Y3JmIG1idHJlZT0xIGNyZj0yMy4wIHFjb21wPTAuNjAgcXBtaW49MCBxcG1heD02OSBxcHN0ZXA9NCBpcF9yYXRpbz0xLjQwIGFxPTE6MS4wMACAAAACYWWIhAAz//727L4FNf2f0JcRLMXaSnA+KqSAgHc0wAAAAwAAAwAAFgn0I7DkqgN3QAAAHGAFBCwCPCVC2EhH2OQZ18DrLIAQl+z7PqAXNa+GP4aCcU6s45cBZuR4xst2+J1Xbv6uiQGfDWFeTefnAtX4DRsmTmDrdFm6TOWeI10nRYWv4V2GnTsinWFh4eU20T7Q9sb7tePAnFj0cHuynedJoj3e0t+uoB5x1hquWyglkaIyoEjXss2eh6DXMMSyPvd4jh79EpSQmojraS0HpbvON2tvAXOywNR3wyR8P7hGg6Iv8LovfbazxSsQf/i9flRi5Fu+EafbeDlG2QbY0d46JpuVFVtiao4r5HQxCT3C6/vIPYwdWPuxiIYFCMDS2ObPgONnQF9Nn6UPqrmKa6lE37ii17sy2tm4LoaP288LPmAJQOywvPvgHpUo2Ge+aqVRE9sYQxmOq/vpXpLtA6EESmvfbGlzkBg7hBSDs0bcmEt6DI6RwVihPfAqgzLz1jIXi0t9p+iSsfJ4FxicBhAQE6A1gfTwLczGuicykLMhr4priHOYXLUME/N8pDoV6MSQEhgzBAsR5b9X9HyRcH6NESepPMrVCr83DPFQuV7FZ9d0/DXjvnjtS/Tavzidq/5dU1YDXmGjxG1ns4D8GdNneRDgGXmPookJd6/hvesjAUalnXvNYWkUYF9HMuzBtqNgxwJXcpUAuwSTpFNSwS9dr7fOk8l1+i/VQUUuVHCABdwTlV0Fn/F+c7PzD9oqalho9+GtKjiZE0QYl9r4FqKBfZX1sd+IAIWAAAADAAAHbQAAAYlBmiRsQz/+nhAAAEW48+Dw0VwDV3537bcaiepfKkeLM6Mtw2xwejbB9SO2t+A4DLWes/3wpOFRKSoMqUlgwg/Ax/h40HDlaQIqW9UmSF8tV1+4eiRqQuC8pQ4GEy4HHprkdZqw65QhOko08++qv6JgQqfVYpqw6wGS7RNCSPlpYRIRYC6fiHNNg9J0RVbF8N2jbMwethU7p4469i7mAEd1gOOtCj3fNBKsIMfd3DBUK3u8Qfv/sJm3s7frJ0kZDP6H37ChfkT4ACi27mkRaTsarlocTdyjvOdasZwIAqtRYtOMapPeFQFxze+xsN4TSI982WviIrr4hhqCOamJ5XTiqtrd8/PhVRfphYDiysJxNbb3kykO7YJ77Ef80ZXBcJt3C0mRrGMAXOEk+5eq6YnP4fXZYQ9gJrYhMMCymBmz5jXyioxZ8c9K0qN995bf2wQEuQQGhP22ov2tEOGTrlsJurjbxwvVotTyOf44gLIkfaoWQCloCtYcZ5bh70enuMVsIioAJiosAoIAAAArQZ5CeIR/AAAWtSuO7aFP2Gz8EpKVftnaK2CJIodIIOij+3aZU6pAkqjAgQAAACgBnmF0R/8AACOr+Kp/GgitsIm08ZxlcGb6Myi7TYr+K6KLubP5LpvQAAAAFAGeY2pH/wAAAwC15qH/Tz2BmEkhAAAAIEGaaEmoQWiZTAhn//6eEAAAAwFiNq3h7z0x12vnYrlhAAAAFkGehkURLCP/AAADAHFAcr8cilfQkkEAAAAUAZ6ldEf/AAADALWLf6o8oUyokWEAAAAOAZ6nakf/AAADAAADAakAAABNQZqsSahBbJlMCGf//p4QAAADA7PK7YAEJ2dW+xci8UQTpYmqGyMQqoBR90bRUHJ2aazBeMeWVUtvmzInPOX9zVUcD+VCYAycLHKoEuAAAAAbQZ7KRRUsI/8AAAMAc/+k3a1phcYOFJdOiHtnAAAAGwGe6XRH/wAAAwC6eX2ippSS9OuG+OvwABatuAAAAA4BnutqR/8AAAMAAAMBqQAAAB5BmvBJqEFsmUwIZ//+nhAAAAMABzw31AEe5wdmakEAAAAQQZ8ORRUsI/8AAAMAAAMBBwAAAA4Bny10R/8AAAMAAAMBqQAAAA4Bny9qR/8AAAMAAAMBqQAAAFRBmzRJqEFsmUwIZ//+nhAAAEVlbh5/qCR8iAD+bZMsEulWncf98E5M3l7TgADEX3/4jTMGZC1UNGZOkOr4rkfWTbUjr++K4rZCCpvJKPPzIpcDdigAAAAvQZ9SRRUsI/8AABa1KzeHqFWF3PTXVNYYow5ADMJqmX8bH++61Xa/EM2NJEnEICEAAAAZAZ9xdEf/AAAjq/hbeBKdYBiZ4tm6pAhnwAAAAB8Bn3NqR/8AAA00n5WW9/CSjSCA/eGKZMy0TJuN2lRgAAAAIEGbeEmoQWyZTAhn//6eEAAAGbpWQu1DpTbWbZU638MvAAAAFUGflkUVLCP/AAAILAoeRWcf7HOMaAAAABMBn7V0R/8AAA0uEvMlj4/q+aIXAAAADgGft2pH/wAAAwAAAwGpAAAAF0GbvEmoQWyZTAhn//6eEAAAAwAAAwM+AAAAEEGf2kUVLCP/AAADAAADAQcAAAAOAZ/5dEf/AAADAAADAakAAAAOAZ/7akf/AAADAAADAakAAAAwQZvgSahBbJlMCGf//p4QAABFRSXM48Aiwcn4KBbw8Vz9LzfzT2P437fjBrLjIWQ5AAAAG0GeHkUVLCP/AAAWtSs3a1OwihMB88j5sLeGNAAAABcBnj10R/8AACOr+Ft4Ep1oI4kJyRBCwAAAABABnj9qR/8AAAT7NNW6gFJBAAAAQUGaJEmoQWyZTAhn//6eEAAACf+z4YeuhbXWr+9uo5iWbla4YGgOrgApjKg+0ypxnnJR3yFht6Njs/HzoFbw/DbAAAAAHUGeQkUVLCP/AAADAzhNZu1rS9cUU+4YP3nEDztxAAAAGwGeYXRH/wAABRxSabCFOXkUgTTU0ZaZgi5JgAAAAA4BnmNqR/8AAAMAAAMBqQAAABdBmmhJqEFsmUwIZ//+nhAAAAMAAAMDPwAAABBBnoZFFSwj/wAAAwAAAwEHAAAADgGepXRH/wAAAwAAAwGpAAAADgGep2pH/wAAAwAAAwGpAAAAL0GarEmoQWyZTAhn//6eEAAARUUotAE+U2ZzUuj2qS5VNewpWP8toz6lU53X4JmAAAAAKUGeykUVLCP/AAAWvEPNtxXNgggojEmrFdHKvNhkfPE62RQmnuRPhtmBAAAAGwGe6XRH/wAABPhbeevo2J1aMm7mQ9N++htJMAAAABwBnutqR/8AACOxzAlvqW+yFUj9R+Cs7K7InwnJAAAAQEGa8EmoQWyZTAhn//6eEAAACe+HpoACBAy/Mh6aYt/nhhihhH3iEwtW78SaTIPwBxMcg8JVnfeM3af/qgnLnncAAAAeQZ8ORRUsI/8AAAMDOFMxQL8JzOaJ7xgJShz0K23BAAAAGgGfLXRH/wAABRxbeZJPdykkh8fe9esYGdsxAAAAHgGfL2pH/wAABRth6v6Pz2ZAFFUSx47E2hAiw/nvgwAAAEtBmzRJqEFsmUwIZ//+nhAAAEVFKaAAlWt0L4kPGHj0JCg7vPnyyaS59DNtSzW43r+fD12hTWsQXL+/OobaTHzK/05xtWgWM41ygwIAAAAaQZ9SRRUsI/8AABa8Q823FcyttkqZNtWECFkAAAAQAZ9xdEf/AAADAeWKPYB+QAAAABcBn3NqR/8AACO/BCcSyWmauFZrKWWGNAAAABpBm3hJqEFsmUwIZ//+nhAAAAMBYeMRGYA9IQAAABJBn5ZFFSwj/wAAAwBxTKbAFfAAAAAfAZ+1dEf/AAAjwJnd6V6RBoJjOQftNEigYsS4dxcMaQAAAA4Bn7dqR/8AAAMAAAMBqQAAAEZBm7xJqEFsmUwIZ//+nhAAAAMDs8OuEJoR8+yADmgAA0wxNecaZIFFjWmFeTHSU69D6rf2UQureJ0o/1a+TZ/UvRSxXlfIAAAAIEGf2kUVLCP/AAADAy/uQQR4Vap6UD7Wp6TD26ih0vBhAAAAGgGf+XRH/wAABRxbeZJPdykkh8fe9esYGdswAAAADgGf+2pH/wAAAwAAAwGpAAAASkGb4EmoQWyZTAhn//6eEAAARUUmH6rQT8AHkuNw1nOsAJcHJsrQnwlbvplOy/DPt22c6t7hzHVA81o/L04hQ8XHxqknmAzbVN3hAAAAI0GeHkUVLCP/AAAWvEPNtxYX2Q96I01/ib4sQxxRHquUGZyQAAAADwGePXRH/wAABRxb9gDCgAAAAB0Bnj9qR/8AACO/BCcSyWmauFZTHyo7fi+tjQSSYQAAABdBmiRJqEFsmUwIZ//+nhAAAAMAAAMDPgAAACVBnkJFFSwj/wAAAwM3cPnxf0bp7FOF9Fsw2oj8aYBUxRIlGXgxAAAAGwGeYXRH/wAAAwHlih4ZqI3n7HaLYFXSeSR24AAAABkBnmNqR/8AAAUdPmDgbdvxPxEZ+Si0cx25AAAAOUGaaEmoQWyZTAhn//6eEAAARUUlvp3ID033YZGQizDMDWrWiteeaEDd9L3nzVcqsuLk/ZJA6mh6QQAAABpBnoZFFSwj/wAAFrxDzbcVzKyZSUMvu/jpgQAAAA4BnqV0R/8AAAMAAAMBqQAAABcBnqdqR/8AACO/BCcSyWmauFZrKWWGNAAAABdBmqxJqEFsmUwIZ//+nhAAAAMAAAMDPgAAACZBnspFFSwj/wAAAwM5s0JDcOesDW++OIhmUJA9L9yZWFnnsn7CAwAAABoBnul0R/8AAAUcW3mST3cpJIfH3vXrGBnbMAAAABsBnutqR/8AAAUdPg61gvHamC8UhbStnq6TW3AAAAA/QZrwSahBbJlMCGf//p4QAAADA7SBEvY1eeHtrEAFdlqk/f9Vs2835jsN7ce4nZcq7PxRSFwRbWRWE7ZtO7LBAAAAIEGfDkUVLCP/AAADAzm757W/LWrlTX2X7+wKTCqB1tsxAAAAGgGfLXRH/wAABRxbeZJPdykkh8fe9esYGdsxAAAAHAGfL2pH/wAABR81vGEn7q9KAqt2J8Kaig5ETkgAAAA6QZs0SahBbJlMCGf//p4QAABFRSi0AOem0oGfAIkjXKX/MbYa1+tUXPw+gS1s5Bq8wtnpLQujsvYEPAAAACxBn1JFFSwj/wAAFrUrN2thugAEJY+JKV1ak6Q0SMk3sv0BXzA2qmNP5pTtwQAAAB0Bn3F0R/8AACOr+Ft4Ep13907H4+2f94X+wIRHJAAAABkBn3NqR/8AAAUdPmDgbdvxPxEZ+Si0cx24AAAAMEGbeEmoQWyZTAhn//6eEAAARUUlnyNPMRdI+OiHa51EW9BzKP9gDU+NbVAQbJ7swQAAACpBn5ZFFSwj/wAAFrxDzbcWF9kX5xwFNBkh4m4OpeuIATV5LQGweT4gJsAAAAAaAZ+1dEf/AAADAeWKHmST3cr9WUzdIq0L7bkAAAAfAZ+3akf/AAAjvwQnEsqXxTFCFL3HpWzSVaHUi55JgQAAAFBBm7xJqEFsmUwIZ//+nhAAAAn/4RQAE6NywzMmgAHym/S2hjhHPaFv69jORjTQnzpbaYH9bHdIbp8WJ726BL8aPw54OJPUjknbMaiFUS0cqAAAAB1Bn9pFFSwj/wAAAwM4TWbta0vXFFPuGD95xA87cQAAABsBn/l0R/8AAAUcUmmwhTl5FIE01NGWmYIuSYAAAAAOAZ/7akf/AAADAAADAakAAABRQZvgSahBbJlMCGf//p4QAABFvit7UE4i/w0sWsBQxhnPbF42ygBK9YnJlqJPIknLXy92Y3Fn/Y+Ky/oaG06I3zvuHmEcOVkVcHKmSMVTvakvAAAAGkGeHkUVLCP/AAAWvEPNtxXMrJlJQy+0bcgYAAAADgGePXRH/wAAAwAAAwGpAAAAGAGeP2pH/wAAI78EJxLJaZq4VmspNCem4QAAAEZBmiRJqEFsmUwIZ//+nhAAABp/Y8FcGhPjl3YKm3tHMKobXsjTycLu0ABwarKoTWQdXE3ocuXOVqgruwKpMLw3yg/5FaMwAAAAH0GeQkUVLCP/AAAIbybn6SxhnDGczbUoUAnkqeqiSYEAAAAOAZ5hdEf/AAADAAADAakAAAAZAZ5jakf/AAANf9Y0xMtbsv9dh1JbHG/RyQAAADZBmmhJqEFsmUwIZ//+nhAAAENFJm+iFS7+Lo9po5XIRU1i2ygC1e9ZrjqpUaT27NrpS5HJVnEAAAAXQZ6GRRUsI/8AABYsTmzC2EsLSpz8MaEAAAAOAZ6ldEf/AAADAAADAakAAAAUAZ6nakf/AAAisisHEzjhqCPAhYAAAABEQZqsSahBbJlMCGf//p4QAAADA553mbz7/ES++5spplLilF50DgaAkAg4wsVVHeg9pFOrFz+u6UpbSaLF7HiuBgzLRDwAAAAeQZ7KRRUsI/8AAAMDJbNCL+Wz7uTquE2J91ig7pJhAAAAGgGe6XRH/wAABPvQwc8bCfinKHcWdrj20rZgAAAAEQGe62pH/wAABPs1C3TB2n+AAAAAKEGa8EmoQWyZTAhn//6eEAAAQ0Umb1mF7PMlBKGPn21/6RJBj78JP8EAAAAmQZ8ORRUsI/8AABYlUowhUzEImYNHeA0nXN9eC0s8cQqEA9tiifEAAAAsAZ8tdEf/AAAiwztjtwAC2Ls6vBgSN+96GPXzuHQ1x0py/q7uyZ3E/sVMYJ8AAAAaAZ8vakf/AAAE+T5g4mNJsbyTVFqsqBlYvygAAABLQZs0SahBbJlMCGf//p4QAABDVKttwAaDaM0TweP8z57LMbG7ODS7s2nT11/VKjEMonLwHf0jpwaEMxMbR0ksQGIT4vojAsX3m8qAAAAAJUGfUkUVLCP/AAAWJVKMI/vOVZalsda4qyml35bDq+oUYkl9/mEAAAAjAZ9xdEf/AAAiwzL8fvu32WDsx+Ah1TYvNXHjK85WwpO2J8AAAAAdAZ9zakf/AAANNJ6bMbgL1lhdcHnDWw+f0YNnYnwAAAAmQZt4SahBbJlMCGf//p4QAABDRSZwon8rimxfvfER8/qwmA6FKSEAAAAZQZ+WRRUsI/8AABYsTqFBeFk6sHOWA/QZkAAAABMBn7V0R/8AAA0uEvMlj4/yUMGBAAAAFQGft2pH/wAAIrIrBxM44xSwMpYf4QAAAEpBm7xJqEFsmUwIZ//+nhAAAAmqKRaQtviJfeW1mgAF1PBNLk7/5+bUvgL5Schp4cWTWf+cqjBdYQy4ENNIbwhPEw80XTmB9e5vQAAAACJBn9pFFSwj/wAAAwMlMc2YWwlaZQv68A+i34TTm56bzG9BAAAADgGf+XRH/wAAAwAAAwGpAAAAGQGf+2pH/wAABPk+YOJnHIY6jp2d8CEC/lEAAAA0QZvgSahBbJlMCGf//p4QAABDZVvBdUAfoJlarbIfUS+iQTr4KWNaQMDNYPJgOqdb8hwiLwAAAB9Bnh5FFSwj/wAAFiVYVYrOP969ADcR5VHH2ie/LAtIAAAAFQGePXRH/wAAIqw5Ba5PH0kjet86bgAAABABnj9qR/8AAAMAGck8KHpBAAAASUGaJEmoQWyZTAhn//6eEAAAQ1SrbcAI3sq9nehH7Z9XF/1/7jhqwVxo6vs3jYtfdDlBm2Shvyt7N1fdou4d6KFbLEb1Pvg0c3wAAAAgQZ5CRRUsI/8AABYlKzdrWWaIuQFnbkc4PR6j7nVRpC0AAAAiAZ5hdEf/AAAiwxdoqZ3xybjrMIjqfoDcswA7xI9IeJzb0AAAAA4BnmNqR/8AAAMAAAMBqQAAAFdBmmhJqEFsmUwIZ//+nhAAAENFJZ8jTzEb1CKAAdrlLEL6EkGq7JiDTSGvh5QnGm4SC4qFLpTfDlJXv40rXtok7GpQLoLUKmgHgMq+hNzo/1AmQsYolP0AAAAnQZ6GRRUsI/8AABYsQ823FoKNiwMBBsbakNHWUBiNF/yu/9vmqt6BAAAAGgGepXRH/wAABPhbeZJPdykkh8fe9esYGdvRAAAAHAGep2pH/wAAIrHMCW+pb7IVa+2PtcAxjFi3g6YAAAA9QZqsSahBbJlMCGf//p4QAABDZW4ef6gka1QAf3dN+bWd2eM6DWyBpGTux7C53oO7yoGNUc8EKHFjbi/PgAAAABpBnspFFSwj/wAAFixDzbcVzKyZSUMvtG3IWQAAAA4Bnul0R/8AAAMAAAMBqQAAABkBnutqR/8AACKxzAjOPMfTE/XiXfUB00KmAAAAVkGa8EmoQWyZTAhn//6eEAAAQ0UllPkPJRVfa8FoxLtNpDXadqAC66yhNdVL86L3YE13Zmm7pPRMmEq5c1NEdNzrr33Q9bYkg94ipygR44CPq3YvRpOdAAAAI0GfDkUVLCP/AAAWLEPNttl4iUgxxWGdUGDCaLIiO7u+lW9BAAAAEQGfLXRH/wAADN4S8yWoQFlBAAAAIgGfL2pH/wAAIr8EHzuYReFGQM3Jx+FYNtm7ufJ+TKxcTpgAAAAzQZs0SahBbJlMCGf//p4QAABDUQ4vBTZFzYzTGAwN61UaERTIG6PhdUAWPHrmsRpags3gAAAAJ0GfUkUVLCP/AAAWLEPNtxV0Q5OkH47t3ykKZCp5K92QWOoOcKWpNwAAABoBn3F0R/8AAAT4W3mST3cpJIfH3vXrGBnb0AAAABcBn3NqR/8AACK/BCcSyWmauFZrKWWGXAAAADpBm3hJqEFsmUwIZ//+nhAAAENFJZT5DlPhHZPecwip498AKz7E0GD6vR6uHJPw52V2bBm6X5/0KnpBAAAAJ0GflkUVLCP/AAAWLEPNtxYkJuNxWEUxUSe23rLxhN+8z3xCRrX3BAAAABoBn7V0R/8AAAT4W3mST3cpJIfH3vXrGBnb0QAAACQBn7dqR/8AACKxzAlvq+VvJAAuoBATGCejP4AD31oOU2BryFkAAAAxQZu8SahBbJlMCGf//p4QAABDUQ4vBTZFzaBbk4e0Kd+W4YUf3qsQWfMx9drxSObZMAAAACNBn9pFFSwj/wAAFixDzRyyDq56FWqBWo4kw032c9+NYbVJsQAAABsBn/l0R/8AAAT4UmmwhTl5FIE01NGWmYIuTYAAAAAbAZ/7akf/AAAiscwJb6lvshVI+/wGKMg+d50xAAAAQkGb4EmoQWyZTAhn//6eEAAAQ0UllPkMLU5+2d+7tLPx/KxinnC2orwwArbojj70UCulBIPTtzdgUtCCimpyLMcAgQAAACBBnh5FFSwj/wAAFixDzbcVzKyZST4HQorLh57/ILyh8AAAAA4Bnj10R/8AAAMAAAMBqQAAABsBnj9qR/8AACKxzAlvqW+yFUj7/AYoyD53nTEAAAA9QZokSahBbJlMCGf//p4QAABDUQ4vBTZFzYzTGF/Ea7D3o8CCgAAQzpa3jvltb5iKz0XDC0ArHS9z6ZMj9QAAADdBnkJFFSwj/wAAFiUrND1UHSuoAW8F0MTpiZVTWWTNP9yaTC7so5rsq+fmNFrZOabRiUS/7/ixAAAAGAGeYXRH/wAAIsMXaKmlU9T7wgmOKG56QAAAABkBnmNqR/8AAAT5MA4blBri4+xtWbc6//ybAAAAbkGaaEmoQWyZTAhn//6eEAAAQ7sfR9BHYG8SDkOrb2AGd76h5allwRrKXYngrAW/z00x8M2AtxoOvLkaPqSKRcfJyzeR1MC7JioKAA051d3ePgtQnTXdaMA+EtiB2DQ2yl109gz5UIP1ABEW5P6BAAAAK0GehkUVLCP/AAAWIyu1BRZH7UOSG7sap77AC2faIj0kplYENxWfk56+nTEAAAAkAZ6ldEf/AAAiwxdoqahD70r18woWPWeyjiykHRogoqT6CC3pAAAAGQGep2pH/wAAIr8EJxLJaZq4VlMfKXyklYAAAABQQZqsSahBbJlMCGf//p4QAABDum867L50i61O4AaYQcV4B6FxnZyikVFwpZHVys5/DZ661T1YhdEdzVVEx3BCVMOq3P8e/C4vbMIODdjEIMAAAAAuQZ7KRRUsI/8AABWcTm0a3HkmVABXAUUHR4I/6eWhY3XY31QexsaPDIRAAqshYQAAABwBnul0R/8AAA0nRokp/cUyAhDTC+ZKLE3rJUmwAAAAGgGe62pH/wAAIb8fjDe6m4rWnEk/Kc9Gx6SAAAAAZEGa8EmoQWyZTAhn//6eEAAAQVEOWjhyqsNfFEhQh/d8WDJDgjxyCOjCkG6aXAudJ0I8KUgliimWX7HISgBGB5Di6Qg8yR3odFh7ZOxXPyvEXB/m+m0Eadq7g+5F4cpGUih9yxcAAAAiQZ8ORRUsI/8AABWVWFWKzkB0TcoGVe13WQXyFLW6W51b0QAAACQBny10R/8AACHDPgwbZ42j3Po0qBMnXK16km0sBAsFxODXb0EAAAAXAZ8vakf/AAADAAn2eQzBUQKMa0M5OmAAAAA5QZs0SahBbJlMCGf//p4QAABBRGpzp+XjteJRIBPTwH90IuxU07ORd5a2OeOudQj+YbuVo8SbrBGAAAAAIkGfUkUVLCP/AAAVkyyLxKqCiUIgGNBX5SUYhIFfUFsV0/8AAAAWAZ9xdEf/AAAhrDkFrk8fPxVoZKB4wAAAABoBn3NqR/8AACGyKwcTOOGoJyGvoC1lBTD/4AAAAGxBm3hJqEFsmUwIX//+jLAAAEICBXk9BY0usDcLta4MgBUlbUqHojw8vr/heB2zdw6sWFYm79WlsUmK0mfwaOY2tuIV09gTuE9yfCUJkV6V31M9mn8BzBkdNMCindhlzgKtR8DdswJZ/PIZDd0AAAAnQZ+WRRUsI/8AABWTLAOePe0bN8WACs8LtfRtebQxyP5qxh4iYAykAAAAFQGftXRH/wAAIcM+DnjYT0Krzn5CwQAAACABn7dqR/8AACG/BCfcAMXnTFe9VUNHGCEbdgmv0dL+0QAAAHBBm7xJqEFsmUwIX//+jLAAAEICBXk9BZAvebLsmNA4BRXxDgUALOJoJYysBFAyQHfaWZvgJc4EeTXUp+xxlNODrEJtP45FOuKgi4GgvF+5+CDyySgQAf1us4/Up623OKwDAh6lUpHcO93rdhTaTnWAAAAAJ0Gf2kUVLCP/AAAVkyu1BbkcL+XPu8TgSrdwUSh63aKU863G7weZSQAAABoBn/l0R/8AACHDF2ippVPVA4PVgPqNrqZ6QAAAACkBn/tqR/8AACG/BCfb/s0DiPs6QjRunbcoh0OVyVWmomq6y7sCYAPbjwAAAGpBm+BJqEFsmUwIX//+jLAAAEIA9tiein5WLNeOCW12AXwAarJeg85h64TFeNab9Kfo7GF++18oqt2khmRBfYFcSuXB2rK5T0yf0dqgoOvqCui/3lXIRUs14SrQrJJnINc3bTeHu2qNRrfBAAAAP0GeHkUVLCP/AAAVkp7eNua33OEY4JLA6mVN26mIpOyjcdvIKhWO8XCwVT3ZcJGAC2Fv9JCizGcKtwxQQ5nccAAAABkBnj10R/8AACGr+Ft4Ep1oI5UwiNM345XwAAAAJQGeP2pH/wAAIa4xL9Iy9IDHPbbVc0jxzUqHcpMt5FJXgFVwr20AAAB5QZokSahBbJlMCFf//jhAAAD9p4tZVBEvNABz5AisR/Hs5fr8MVNRNYcRndZvb3XZ+D8NjPdzZY/LpduB1B2Nkoo2ULwi11+fa+yY4gDYf+BbT8Ir2BHahv8FT+V64IV0eoQDg4YFmKtt9qT8qYHuFAWbFN/wzkiAEAAAADlBnkJFFSwj/wAAFZuUVLGWSryIqbgfG9V5BUGI8omzfwKwLwse7oZCAdrU3V7BtPltCi8iF8F5ccEAAAAlAZ5hdEf/AAAhwxdoqaVT1P7XzjzeHHNbIxOBACECji8Ho4ETyQAAACIBnmNqR/8AACG9lgKKAPsnBO5G9yBfbRACxaf+LmT9DI7NAAAAR0GaaEmoQWyZTAhH//3hAAADA+W/6mQwXFDT7VYCoKh8ZSQtO0tHNcjZzo3AoUaiTu7Y+R66LDYjpgeT/y6u0DMK/w3Mm1dBAAAANkGehkUVLCP/AAAVkp7eNxtHC/l0Nf4v1u5M9GvLU8DpbPGBbEBQAkdEFH7Kl0Vl4rk/SlB5IQAAAB0BnqV0R/8AACHDF2ippVPU+8IJjrF4rE+Jnxi5RwAAACcBnqdqR/8AACG9n29p/3FSbNjeZO3+WYrIIufj8C8Q4WSweFT5S44AAAA9QZqpSahBbJlMCP/8hAAADtGefW29ak/1nD9A0/knT0okq1FROJbotL7cENXFKYysnfGke0V4AxEHe74AfAAADKNtb292AAAAbG12aGQAAAAAAAAAAAAAAAAAAAPoAAAPyAABAAABAAAAAAAAAAAAAAAAAQAAAAAAAAAAAAAAAAAAAAEAAAAAAAAAAAAAAAAAAEAAAAAAAAAAAAAAAAAAAAAAAAAAAAAAAAAAAAAAAAACAAALzXRyYWsAAABcdGtoZAAAAAMAAAAAAAAAAAAAAAEAAAAAAAAPyAAAAAAAAAAAAAAAAAAAAAAAAQAAAAAAAAAAAAAAAAAAAAEAAAAAAAAAAAAAAAAAAEAAAAACWAAAAZAAAAAAACRlZHRzAAAAHGVsc3QAAAAAAAAAAQAAD8gAAAIAAAEAAAAAC0VtZGlhAAAAIG1kaGQAAAAAAAAAAAAAAAAAADIAAADKAFXEAAAAAAAtaGRscgAAAAAAAAAAdmlkZQAAAAAAAAAAAAAAAFZpZGVvSGFuZGxlcgAAAArwbWluZgAAABR2bWhkAAAAAQAAAAAAAAAAAAAAJGRpbmYAAAAcZHJlZgAAAAAAAAABAAAADHVybCAAAAABAAAKsHN0YmwAAACwc3RzZAAAAAAAAAABAAAAoGF2YzEAAAAAAAAAAQAAAAAAAAAAAAAAAAAAAAACWAGQAEgAAABIAAAAAAAAAAEAAAAAAAAAAAAAAAAAAAAAAAAAAAAAAAAAAAAAAAAAAAAY//8AAAA2YXZjQwFkAB//4QAZZ2QAH6zZQJgz5eEAAAMAAQAAAwBkDxgxlgEABmjr48siwP34+AAAAAAUYnRydAAAAAAAAEvjAABL4wAAABhzdHRzAAAAAAAAAAEAAADKAAABAAAAABRzdHNzAAAAAAAAAAEAAAABAAAGYGN0dHMAAAAAAAAAygAAAAEAAAIAAAAAAQAABQAAAAABAAACAAAAAAEAAAAAAAAAAQAAAQAAAAABAAAFAAAAAAEAAAIAAAAAAQAAAAAAAAABAAABAAAAAAEAAAUAAAAAAQAAAgAAAAABAAAAAAAAAAEAAAEAAAAAAQAABQAAAAABAAACAAAAAAEAAAAAAAAAAQAAAQAAAAABAAAFAAAAAAEAAAIAAAAAAQAAAAAAAAABAAABAAAAAAEAAAUAAAAAAQAAAgAAAAABAAAAAAAAAAEAAAEAAAAAAQAABQAAAAABAAACAAAAAAEAAAAAAAAAAQAAAQAAAAABAAAFAAAAAAEAAAIAAAAAAQAAAAAAAAABAAABAAAAAAEAAAUAAAAAAQAAAgAAAAABAAAAAAAAAAEAAAEAAAAAAQAABQAAAAABAAACAAAAAAEAAAAAAAAAAQAAAQAAAAABAAAFAAAAAAEAAAIAAAAAAQAAAAAAAAABAAABAAAAAAEAAAUAAAAAAQAAAgAAAAABAAAAAAAAAAEAAAEAAAAAAQAABQAAAAABAAACAAAAAAEAAAAAAAAAAQAAAQAAAAABAAAFAAAAAAEAAAIAAAAAAQAAAAAAAAABAAABAAAAAAEAAAUAAAAAAQAAAgAAAAABAAAAAAAAAAEAAAEAAAAAAQAABQAAAAABAAACAAAAAAEAAAAAAAAAAQAAAQAAAAABAAAFAAAAAAEAAAIAAAAAAQAAAAAAAAABAAABAAAAAAEAAAUAAAAAAQAAAgAAAAABAAAAAAAAAAEAAAEAAAAAAQAABQAAAAABAAACAAAAAAEAAAAAAAAAAQAAAQAAAAABAAAFAAAAAAEAAAIAAAAAAQAAAAAAAAABAAABAAAAAAEAAAUAAAAAAQAAAgAAAAABAAAAAAAAAAEAAAEAAAAAAQAABQAAAAABAAACAAAAAAEAAAAAAAAAAQAAAQAAAAABAAAFAAAAAAEAAAIAAAAAAQAAAAAAAAABAAABAAAAAAEAAAUAAAAAAQAAAgAAAAABAAAAAAAAAAEAAAEAAAAAAQAABQAAAAABAAACAAAAAAEAAAAAAAAAAQAAAQAAAAABAAAFAAAAAAEAAAIAAAAAAQAAAAAAAAABAAABAAAAAAEAAAUAAAAAAQAAAgAAAAABAAAAAAAAAAEAAAEAAAAAAQAABQAAAAABAAACAAAAAAEAAAAAAAAAAQAAAQAAAAABAAAFAAAAAAEAAAIAAAAAAQAAAAAAAAABAAABAAAAAAEAAAUAAAAAAQAAAgAAAAABAAAAAAAAAAEAAAEAAAAAAQAABQAAAAABAAACAAAAAAEAAAAAAAAAAQAAAQAAAAABAAAFAAAAAAEAAAIAAAAAAQAAAAAAAAABAAABAAAAAAEAAAUAAAAAAQAAAgAAAAABAAAAAAAAAAEAAAEAAAAAAQAABQAAAAABAAACAAAAAAEAAAAAAAAAAQAAAQAAAAABAAAFAAAAAAEAAAIAAAAAAQAAAAAAAAABAAABAAAAAAEAAAUAAAAAAQAAAgAAAAABAAAAAAAAAAEAAAEAAAAAAQAABQAAAAABAAACAAAAAAEAAAAAAAAAAQAAAQAAAAABAAAFAAAAAAEAAAIAAAAAAQAAAAAAAAABAAABAAAAAAEAAAUAAAAAAQAAAgAAAAABAAAAAAAAAAEAAAEAAAAAAQAABQAAAAABAAACAAAAAAEAAAAAAAAAAQAAAQAAAAABAAAFAAAAAAEAAAIAAAAAAQAAAAAAAAABAAABAAAAAAEAAAUAAAAAAQAAAgAAAAABAAAAAAAAAAEAAAEAAAAAAQAABQAAAAABAAACAAAAAAEAAAAAAAAAAQAAAQAAAAABAAAFAAAAAAEAAAIAAAAAAQAAAAAAAAABAAABAAAAAAEAAAUAAAAAAQAAAgAAAAABAAAAAAAAAAEAAAEAAAAAAQAABQAAAAABAAACAAAAAAEAAAAAAAAAAQAAAQAAAAABAAAFAAAAAAEAAAIAAAAAAQAAAAAAAAABAAABAAAAAAEAAAUAAAAAAQAAAgAAAAABAAAAAAAAAAEAAAEAAAAAAQAABQAAAAABAAACAAAAAAEAAAAAAAAAAQAAAQAAAAABAAAFAAAAAAEAAAIAAAAAAQAAAAAAAAABAAABAAAAAAEAAAIAAAAAHHN0c2MAAAAAAAAAAQAAAAEAAADKAAAAAQAAAzxzdHN6AAAAAAAAAAAAAADKAAAFFwAAAY0AAAAvAAAALAAAABgAAAAkAAAAGgAAABgAAAASAAAAUQAAAB8AAAAfAAAAEgAAACIAAAAUAAAAEgAAABIAAABYAAAAMwAAAB0AAAAjAAAAJAAAABkAAAAXAAAAEgAAABsAAAAUAAAAEgAAABIAAAA0AAAAHwAAABsAAAAUAAAARQAAACEAAAAfAAAAEgAAABsAAAAUAAAAEgAAABIAAAAzAAAALQAAAB8AAAAgAAAARAAAACIAAAAeAAAAIgAAAE8AAAAeAAAAFAAAABsAAAAeAAAAFgAAACMAAAASAAAASgAAACQAAAAeAAAAEgAAAE4AAAAnAAAAEwAAACEAAAAbAAAAKQAAAB8AAAAdAAAAPQAAAB4AAAASAAAAGwAAABsAAAAqAAAAHgAAAB8AAABDAAAAJAAAAB4AAAAgAAAAPgAAADAAAAAhAAAAHQAAADQAAAAuAAAAHgAAACMAAABUAAAAIQAAAB8AAAASAAAAVQAAAB4AAAASAAAAHAAAAEoAAAAjAAAAEgAAAB0AAAA6AAAAGwAAABIAAAAYAAAASAAAACIAAAAeAAAAFQAAACwAAAAqAAAAMAAAAB4AAABPAAAAKQAAACcAAAAhAAAAKgAAAB0AAAAXAAAAGQAAAE4AAAAmAAAAEgAAAB0AAAA4AAAAIwAAABkAAAAUAAAATQAAACQAAAAmAAAAEgAAAFsAAAArAAAAHgAAACAAAABBAAAAHgAAABIAAAAdAAAAWgAAACcAAAAVAAAAJgAAADcAAAArAAAAHgAAABsAAAA+AAAAKwAAAB4AAAAoAAAANQAAACcAAAAfAAAAHwAAAEYAAAAkAAAAEgAAAB8AAABBAAAAOwAAABwAAAAdAAAAcgAAAC8AAAAoAAAAHQAAAFQAAAAyAAAAIAAAAB4AAABoAAAAJgAAACgAAAAbAAAAPQAAACYAAAAaAAAAHgAAAHAAAAArAAAAGQAAACQAAAB0AAAAKwAAAB4AAAAtAAAAbgAAAEMAAAAdAAAAKQAAAH0AAAA9AAAAKQAAACYAAABLAAAAOgAAACEAAAArAAAAQQAAABRzdGNvAAAAAAAAAAEAAAAwAAAAYnVkdGEAAABabWV0YQAAAAAAAAAhaGRscgAAAAAAAAAAbWRpcmFwcGwAAAAAAAAAAAAAAAAtaWxzdAAAACWpdG9vAAAAHWRhdGEAAAABAAAAAExhdmY1OC43Ni4xMDA=\" type=\"video/mp4\">\n",
              "</video>\n"
            ]
          },
          "metadata": {},
          "execution_count": 44
        }
      ],
      "source": [
        "#@title Visualise Policy {display-mode: \"form\"}\n",
        "#@markdown Choose an episode number that is a multiple of 100 and less than or equal to 2000, and **run** this cell.\n",
        "episode_number = 1000 #@param {type:\"number\"}\n",
        "\n",
        "assert (episode_number % 100) == 0, \"Episode number must be a multiple of 100 since we only record every 100th episode.\"\n",
        "assert episode_number < 1001, \"Episode number must be less than or equal to 2000\"\n",
        "\n",
        "eval_episode_number = int(episode_number / 100 * 8)\n",
        "video_path = f\"./video/rps/eval/rl-video-episode-{eval_episode_number}.mp4\"\n",
        "\n",
        "mp4 = open(video_path,'rb').read()\n",
        "data_url = \"data:video/mp4;base64,\" + b64encode(mp4).decode()\n",
        "HTML(\"\"\"\n",
        "<video width=400 controls>\n",
        "      <source src=\"%s\" type=\"video/mp4\">\n",
        "</video>\n",
        "\"\"\" % data_url)"
      ]
    },
    {
      "cell_type": "markdown",
      "metadata": {
        "id": "Xwf1IKKbrrVn"
      },
      "source": [
        "Итак, случайный поиск политики справился с этой задачей довольно хорошо. Однако здесь происходит очень мало (если вообще происходит) реального *обучения*. Далее давайте рассмотрим реализацию простого алгоритма RL, который может использовать свой опыт для руководства нашим поиском оптимальной политики, а не просто искать ее случайным образом."
      ]
    },
    {
      "cell_type": "markdown",
      "metadata": {
        "id": "XEnSjZVESrxc"
      },
      "source": [
        "## 3. Градиенты политики  (Policy Gradients, PG)\n",
        "Как обсуждалось, цель RL — найти политику, которая максимизирует ожидаемое совокупное вознаграждение (возврат), которое агент получает от среды. Мы можем записать ожидаемый возврат политики как:\n",
        "\n",
        "$J(\\pi_\\theta)=\\mathrm{E}_{\\tau\\sim\\pi_\\theta}\\ [R(\\tau)]$,\n",
        "\n",
        "где $\\pi_\\theta$ — это политика, параметризованная $\\theta$, $\\mathrm{E}$ означает *ожидание*, $\\tau$ — это сокращение для \"*эпизод*\", $\\tau\\sim\\pi_\\theta$ — это сокращение для \"*эпизоды, выбранные с использованием политики* $\\pi_\\theta$\", а $R(\\tau)$ — это возврат эпизода $\\tau$.\n",
        "\n",
        "Затем, цель в RL — найти параметры $\\theta$, которые максимизируют функцию $J(\\pi_\\theta)$. Один из способов найти эти параметры — выполнить градиентный подъем по $J(\\pi_\\theta)$ относительно параметров $\\theta$:\n",
        "\n",
        "$\\theta_{k+1}=\\theta_k + \\alpha \\nabla J(\\pi_\\theta)|_{\\theta_{k}}$,\n",
        "\n",
        "где $\\nabla J(\\pi_\\theta)|_{\\theta_{k}}$ — градиент ожидаемой доходности относительно параметров политики $\\theta_k$, а $\\alpha$ — размер шага. Эта величина, $\\nabla J(\\pi_\\theta)$, также называется **градиентом политики** и очень важна в RL. Если мы сможем вычислить градиент политики, то у нас будет средство, с помощью которого можно напрямую оптимизировать нашу политику.\n",
        "\n",
        "Как оказалось, у нас есть способ вычислить градиент политики, и математический вывод можно найти [здесь](https://spinningup.openai.com/en/latest/spinningup/rl_intro3.html). Но для этого руководства мы опустим вывод и просто дадим вам результат:\n",
        "\n",
        "$\\nabla_{\\theta} J(\\pi_{\\theta})=\\underset{\\tau \\sim \\pi_{\\theta}}{\\mathrm{E}}[\\sum_{t=0}^{T} \\nabla_{\\theta} \\log \\pi_{\\theta}(a_{t} \\mid s_{t}) R(\\tau)]$\n",
        "\n",
        "Неформально, градиент политики равен градиенту логарифма вероятности выбранного действия, умноженного на возврат эпизода, в котором было предпринято действие.\n"
      ]
    },
    {
      "cell_type": "markdown",
      "metadata": {
        "id": "BTnTzgtSuy-y"
      },
      "source": [
        "### REINFORCE\n",
        "REINFORCE — это простой алгоритм RL, который использует градиент политики для поиска оптимальной политики путем увеличения вероятности выбора действий (усиливающих действий), которые, как правило, приводят к эпизодам с высокой отдачей.\n",
        "\n",
        "**Упражнение 6:** Реализуйте функцию, которая берет вероятность действия и отдачу эпизода, в котором действие было предпринято, и вычисляет логарифм вероятности, умноженный на отдачу. Убедитесь, что вы используете JAX.\n",
        "\n",
        "**Полезные функции:**\n",
        "*   `jax.numpy.log`([docs](https://jax.readthedocs.io/en/latest/_autosummary/jax.numpy.log.html))"
      ]
    },
    {
      "cell_type": "code",
      "execution_count": 92,
      "metadata": {
        "id": "bJObUsoUrOyV"
      },
      "outputs": [],
      "source": [
        "import jax.numpy as jnp\n",
        "\n",
        "def compute_weighted_log_prob(action_prob, episode_return):\n",
        "\n",
        "    # Вычислить логарифм вероятности действия\n",
        "    log_prob = jnp.log(action_prob)\n",
        "\n",
        "    # Умножить на возврат эпизода\n",
        "    weighted_log_prob = log_prob * episode_return\n",
        "\n",
        "    return weighted_log_prob\n"
      ]
    },
    {
      "cell_type": "code",
      "execution_count": 28,
      "metadata": {
        "id": "eZPoTwa1Gbm1",
        "colab": {
          "base_uri": "https://localhost:8080/"
        },
        "outputId": "96cb059c-ce77-47a2-e8f0-5f0aaef418b4"
      },
      "outputs": [
        {
          "output_type": "stream",
          "name": "stdout",
          "text": [
            "Looks correct.\n"
          ]
        }
      ],
      "source": [
        "#@title Проверка упр 6 {display-mode: \"form\"}\n",
        "\n",
        "try:\n",
        "  action_prob = 0.8\n",
        "  episode_return = 100\n",
        "  result = compute_weighted_log_prob(action_prob, episode_return)\n",
        "  if result != -22.314354:\n",
        "    print(\"Your implementation looks incorrect.\")\n",
        "  else:\n",
        "    print(\"Looks correct.\")\n",
        "except Exception as e:\n",
        "    print(\"An Error Occured: {}\".format(e))"
      ]
    },
    {
      "cell_type": "markdown",
      "metadata": {
        "id": "NmgW9UJ3tIpl"
      },
      "source": [
        "### Rewards-to-go\n",
        "Выполнение градиентного подъема по градиенту логарифма вероятности действия, взвешенного по возврату эпизода, будет иметь тенденцию повышать вероятность действий, которые были в эпизодах с высоким возвратом, независимо от того, *где* в эпизоде ​​было выполнено действие. Это на самом деле не имеет большого смысла, потому что действие ближе к концу эпизода может быть подкреплено, потому что много вознаграждения было собрано ранее в эпизоде, *до* того, как было выполнено действие. Агенты RL должны на самом деле подкреплять действия только на основе их *последствий*. Вознаграждения, полученные до выполнения действия, не влияют на то, насколько хорошим было это действие: только вознаграждения, которые приходят после. Накопленные вознаграждения, полученные после выполнения действия, называются **вознаграждениями-к-переходу** и могут быть вычислены как:\n",
        "\n",
        "$\\hat{R}_i=\\sum_{t=i}^Tr_t$\n",
        "\n",
        "Сравните это с доходностью эпизода:\n",
        "\n",
        "$R(\\tau)=\\sum_{t=0}^Tr_t$\n",
        "\n",
        "Мы можем повысить надежность градиента политики, заменив доходность эпизода на вознаграждения-к-переходу. Градиент политики с оставшимися наградами задается следующим образом:\n",
        "\n",
        "$\\nabla_{\\theta} J(\\pi_{\\theta})=\\underset{\\tau \\sim \\pi_{\\theta}}{\\mathrm{E}}[\\sum_{t=0}^{T} \\nabla_{\\theta} \\log \\pi_{\\theta}(a_{t} \\mid s_{t}) \\hat{R}_t]$\n",
        "\n",
        "**Упражнение 7:** Реализуйте функцию, которая берет список всех наград, полученных в эпизоде, и вычисляет оставшиеся награды. Не беспокойтесь об использовании JAX в этой функции. Вы можете использовать обычные операции Python, такие как `for-loops`."
      ]
    },
    {
      "cell_type": "code",
      "execution_count": 91,
      "metadata": {
        "id": "nV1Hww8E3dUJ"
      },
      "outputs": [],
      "source": [
        "def compute_rewards_to_go(rewards):\n",
        "\n",
        "    rewards_to_go = [0] * len(rewards)  # Создаём список для хранения результата\n",
        "    cumulative_sum = 0  # Сумма наград от конца к началу\n",
        "\n",
        "    # Проходим по списку наград в обратном порядке\n",
        "    for t in reversed(range(len(rewards))):\n",
        "        cumulative_sum += rewards[t]\n",
        "        rewards_to_go[t] = cumulative_sum\n",
        "\n",
        "    return rewards_to_go\n"
      ]
    },
    {
      "cell_type": "code",
      "execution_count": 30,
      "metadata": {
        "id": "hLVaVRp28YGI",
        "colab": {
          "base_uri": "https://localhost:8080/"
        },
        "outputId": "96965551-b01d-4bac-8962-e82685c6d7f0"
      },
      "outputs": [
        {
          "output_type": "stream",
          "name": "stdout",
          "text": [
            "Looks correct.\n"
          ]
        }
      ],
      "source": [
        "#@title Проверка упр 7 {display-mode: \"form\"}\n",
        "\n",
        "try:\n",
        "  result = compute_rewards_to_go([1,2,3,4])\n",
        "\n",
        "  if result != [10, 9, 7, 4]:\n",
        "    print(\"There is a problem with your implementation.\")\n",
        "  else:\n",
        "    print(\"Looks correct.\")\n",
        "except Exception as e:\n",
        "    print(\"An Error Occured: {}\".format(e))\n"
      ]
    },
    {
      "cell_type": "markdown",
      "metadata": {
        "id": "IboxN9MS65i5"
      },
      "source": [
        "### REINFORCE memory\n",
        "Далее нам нужно будет создать новую память агента для хранения вознаграждений $\\hat{R}_t$ вместе с наблюдением $o_t$ и действием $a_t$ на каждом временном шаге. Ниже мы реализовали такой модуль памяти для вас. Функция `memory.sample()` вернет пакет из последних 500 воспоминаний. Вы можете прочитать код, чтобы попытаться понять его, но это не обязательно. Поэтому мы скрываем код по умолчанию."
      ]
    },
    {
      "cell_type": "code",
      "execution_count": 31,
      "metadata": {
        "id": "xhS4V6auRjM3"
      },
      "outputs": [],
      "source": [
        "# @title Реализация памяти (run me) {display-mode: \"form\"}\n",
        "\n",
        "# NamedTuple to store memory\n",
        "EpisodeRewardsToGoMemory = collections.namedtuple(\"EpisodeRewardsToGoMemory\", [\"obs\", \"action\", \"reward_to_go\"])\n",
        "\n",
        "class EpisodeRewardsToGoBuffer:\n",
        "\n",
        "    def __init__(self, num_transitions_to_store=512, batch_size=256):\n",
        "        self.batch_size = batch_size\n",
        "        self.memory_buffer = collections.deque(maxlen=num_transitions_to_store)\n",
        "        self.current_episode_transition_buffer = []\n",
        "\n",
        "    def push(self, transition):\n",
        "        self.current_episode_transition_buffer.append(transition)\n",
        "\n",
        "        if transition.done:\n",
        "\n",
        "            episode_rewards = []\n",
        "            for t in self.current_episode_transition_buffer:\n",
        "                episode_rewards.append(t.reward)\n",
        "\n",
        "            r2g = compute_rewards_to_go(episode_rewards)\n",
        "\n",
        "            for i, t in enumerate(self.current_episode_transition_buffer):\n",
        "                memory = EpisodeRewardsToGoMemory(t.obs, t.action, r2g[i])\n",
        "                self.memory_buffer.append(memory)\n",
        "\n",
        "            # Reset episode buffer\n",
        "            self.current_episode_transition_buffer = []\n",
        "\n",
        "\n",
        "    def is_ready(self):\n",
        "        return len(self.memory_buffer) >= self.batch_size\n",
        "\n",
        "    def sample(self):\n",
        "        random_memory_sample = random.sample(self.memory_buffer, self.batch_size)\n",
        "\n",
        "        obs_batch, action_batch, reward_to_go_batch = zip(*random_memory_sample)\n",
        "\n",
        "        return EpisodeRewardsToGoMemory(\n",
        "            np.stack(obs_batch).astype(\"float32\"),\n",
        "            np.asarray(action_batch).astype(\"int32\"),\n",
        "            np.asarray(reward_to_go_batch).astype(\"int32\")\n",
        "        )\n",
        "\n",
        "\n",
        "# Instantiate Memory\n",
        "REINFORCE_memory = EpisodeRewardsToGoBuffer(num_transitions_to_store=512, batch_size=256)"
      ]
    },
    {
      "cell_type": "markdown",
      "metadata": {
        "id": "Idkav_aSYXvz"
      },
      "source": [
        "### Policy neural network\n",
        "Далее мы будем использовать простую нейронную сеть для аппроксимации политики. Наша нейронная сеть политики будет иметь входной слой, который принимает наблюдение в качестве входных данных и пропускает его через два скрытых слоя, а затем выводит одно скалярное значение для каждого из возможных действий. Таким образом, в CartPole выходной слой будет иметь размер `2`.\n",
        "\n",
        "[Haiku](https://github.com/deepmind/dm-haiku) — это библиотека для реализации нейронных сетей в JAX. Ниже мы реализовали простую функцию для создания сети политики для вас.\n"
      ]
    },
    {
      "cell_type": "code",
      "execution_count": 32,
      "metadata": {
        "id": "j2XO7VkORjM4"
      },
      "outputs": [],
      "source": [
        "def make_policy_network(num_actions: int, layers=[20, 20]) -> hk.Transformed:\n",
        "  \"\"\"Factory for a simple MLP network for the policy.\"\"\"\n",
        "\n",
        "  def policy_network(obs):\n",
        "    network = hk.Sequential(\n",
        "        [\n",
        "            hk.Flatten(),\n",
        "            hk.nets.MLP(layers + [num_actions])\n",
        "        ]\n",
        "    )\n",
        "    return network(obs)\n",
        "\n",
        "  return hk.without_apply_rng(hk.transform(policy_network))"
      ]
    },
    {
      "cell_type": "markdown",
      "metadata": {
        "id": "1GR2y8FjaG-G"
      },
      "source": [
        "У сетей Haiku есть две важные функции, о которых вам нужно знать. Первая — `network.init(<random_key>, <input>)`, которая возвращает набор случайных начальных параметров. Второй метод — `network.apply(<params>, <input>)`, который передает входные данные через сеть, используя предоставленный набор параметров."
      ]
    },
    {
      "cell_type": "code",
      "execution_count": 33,
      "metadata": {
        "id": "fJrn9o-Vatkw",
        "colab": {
          "base_uri": "https://localhost:8080/"
        },
        "outputId": "610176ef-0d33-4cab-e5d6-98280ce7d2d3"
      },
      "outputs": [
        {
          "output_type": "stream",
          "name": "stdout",
          "text": [
            "Initial params: dict_keys(['mlp/~/linear_0', 'mlp/~/linear_1', 'mlp/~/linear_2'])\n",
            "Policy network output: [ 0.91155875 -0.3961737 ]\n"
          ]
        }
      ],
      "source": [
        "import jax\n",
        "import jax.numpy as jnp\n",
        "import haiku as hk\n",
        "\n",
        "# Функция для создания сети политики\n",
        "def make_policy_network(num_actions: int, layers=[20, 20]) -> hk.Transformed:\n",
        "    \"\"\"\n",
        "    Factory for a simple MLP network for the policy.\n",
        "    \"\"\"\n",
        "    def policy_network(obs):\n",
        "        network = hk.Sequential([\n",
        "            hk.Flatten(),\n",
        "            hk.nets.MLP(layers + [num_actions])\n",
        "        ])\n",
        "        return network(obs)\n",
        "\n",
        "    return hk.without_apply_rng(hk.transform(policy_network))\n",
        "\n",
        "# Пример использования\n",
        "num_actions = 2  # Количество действий в среде CartPole\n",
        "obs_shape = (4,)  # Размерность наблюдений в среде CartPole\n",
        "\n",
        "POLICY_NETWORK = make_policy_network(num_actions=num_actions, layers=[20, 20])\n",
        "random_key = jax.random.PRNGKey(42)  # Случайный ключ\n",
        "dummy_obs = jnp.ones(obs_shape, \"float32\")  # Пример наблюдения\n",
        "\n",
        "# Инициализация параметров сети\n",
        "REINFORCE_params = POLICY_NETWORK.init(random_key, dummy_obs)\n",
        "print(\"Initial params:\", REINFORCE_params.keys())\n",
        "\n",
        "# Пропуск наблюдений через сеть\n",
        "output = POLICY_NETWORK.apply(REINFORCE_params, dummy_obs)\n",
        "print(\"Policy network output:\", output)\n"
      ]
    },
    {
      "cell_type": "markdown",
      "metadata": {
        "id": "MlouUBvoeunz"
      },
      "source": [
        "Выходы нашей сети политик — [логиты](https://qr.ae/pv4YTe). Чтобы преобразовать это в распределение вероятностей по действиям, мы передаем логиты в функцию [softmax](https://en.wikipedia.org/wiki/Softmax_function).\n",
        "\n",
        "### УСИЛЕНИЕ выбор функции действия\n",
        "\n",
        "**Упражнение 8:** Завершите функцию ниже, которая берет вектор логитов и случайным образом выбирает действие из категориального распределения, заданного логитами.\n",
        "\n",
        "**Полезные функции:**\n",
        "*   `jax.random.categorical`([docs](https://jax.readthedocs.io/en/latest/_autosummary/jax.random.categorical.html#jax.random.categorical))"
      ]
    },
    {
      "cell_type": "code",
      "execution_count": 90,
      "metadata": {
        "id": "m3Z8DxUmeOGJ"
      },
      "outputs": [],
      "source": [
        "import jax\n",
        "import jax.numpy as jnp\n",
        "\n",
        "def sample_action(random_key, logits):\n",
        "\n",
        "    # Выбираем действие из категориального распределения\n",
        "    action = jax.random.categorical(random_key, logits)\n",
        "    return action\n"
      ]
    },
    {
      "cell_type": "code",
      "execution_count": 35,
      "metadata": {
        "id": "5opHJMO0D_Ub",
        "colab": {
          "base_uri": "https://localhost:8080/"
        },
        "outputId": "858de63a-2a8f-484f-ec0b-a29586de4346"
      },
      "outputs": [
        {
          "output_type": "stream",
          "name": "stdout",
          "text": [
            "Seems correct.\n"
          ]
        }
      ],
      "source": [
        "#@title Проверка упр 8 {display-mode: \"form\"}\n",
        "\n",
        "try:\n",
        "  random_key = jax.random.PRNGKey(42) # random key\n",
        "  action = sample_action(random_key, np.array([1,2], \"float32\"))\n",
        "  if action != 1:\n",
        "    print(\"Your function is incorrect.\")\n",
        "  else:\n",
        "    print(\"Seems correct.\")\n",
        "except Exception as e:\n",
        "    print(\"An Error Occured: {}\".format(e))"
      ]
    },
    {
      "cell_type": "markdown",
      "metadata": {
        "id": "jP5UH87VRjM4"
      },
      "source": [
        "Теперь мы можем реализовать функцию `REINFORCE_choose_action`. Мы передадим наблюдение через сеть политики для вычисления логитов, а затем передадим логиты в функцию `sample_action` для выбора и действия."
      ]
    },
    {
      "cell_type": "code",
      "execution_count": 36,
      "metadata": {
        "id": "UJTzrDAZ0Ul5"
      },
      "outputs": [],
      "source": [
        "def REINFORCE_choose_action(key, params, actor_state, obs, evaluation=False):\n",
        "  obs = jnp.expand_dims(obs, axis=0) # add dummy batch dim before passing through network\n",
        "\n",
        "  # Pass obs through policy network to compute logits\n",
        "  logits = POLICY_NETWORK.apply(params, obs)\n",
        "  logits = logits[0] # remove batch dim\n",
        "\n",
        "  # Randomly sample action\n",
        "  sampled_action = sample_action(key, logits)\n",
        "\n",
        "  return sampled_action, actor_state"
      ]
    },
    {
      "cell_type": "markdown",
      "metadata": {
        "id": "NI26SLAb7iRo"
      },
      "source": [
        "Теперь, когда мы реализовали функцию `REINFORCE_choose_action`, нам осталось только создать функцию `REINFORCE_learn`. Функция обучения должна использовать функцию `weighted_log_prob`, которую мы создали ранее, чтобы вычислить потери градиента политики и применить обновления градиента к нашей нейронной сети."
      ]
    },
    {
      "cell_type": "markdown",
      "metadata": {
        "id": "36ALCJESQJ8e"
      },
      "source": [
        "### Policy gradient loss\n",
        "\n",
        "\n",
        "**Упражнение 9:** Завершите функцию `policy_gradient_loss` ниже. Функция должна вычислять вероятности действий, пропуская `logits` через функцию softmax. Затем следует извлечь вероятность заданного `action` (используя индексацию массива) и вычислить `weighted_log_prob`, используя функцию, которую мы создали ранее.\n",
        "\n",
        "**Полезные методы:**\n",
        "*   `jax.nn.softmax` ([docs](https://jax.readthedocs.io/en/latest/_autosummary/jax.nn.softmax.html))"
      ]
    },
    {
      "cell_type": "code",
      "execution_count": 89,
      "metadata": {
        "id": "9sUKkqx0RjM4"
      },
      "outputs": [],
      "source": [
        "import jax\n",
        "import jax.numpy as jnp\n",
        "\n",
        "def policy_gradient_loss(action, logits, reward_to_go):\n",
        "\n",
        "    # Преобразование логитов в вероятности\n",
        "    all_action_probs = jax.nn.softmax(logits)\n",
        "\n",
        "    # Извлечение вероятности заданного действия\n",
        "    action_prob = all_action_probs[action]\n",
        "\n",
        "    # Вычисление взвешенного логарифма вероятности\n",
        "    weighted_log_prob = jnp.log(action_prob) * reward_to_go\n",
        "\n",
        "    # Возвращение отрицательного значения для градиентного подъема\n",
        "    loss = -weighted_log_prob\n",
        "\n",
        "    return loss\n"
      ]
    },
    {
      "cell_type": "code",
      "execution_count": 38,
      "metadata": {
        "id": "7AMJvau1FsM5",
        "colab": {
          "base_uri": "https://localhost:8080/"
        },
        "outputId": "e3115a31-eec6-4c54-8bc4-1b1790fb0c5b"
      },
      "outputs": [
        {
          "output_type": "stream",
          "name": "stdout",
          "text": [
            "Looks correct.\n"
          ]
        }
      ],
      "source": [
        "#@title Проверка упр 9 {display-mode: \"form\"}\n",
        "\n",
        "try:\n",
        "  result = policy_gradient_loss(1, np.array([1,2], \"float32\"), 10)\n",
        "  if result != 3.1326165:\n",
        "    print(\"Your implementation looks wrong.\")\n",
        "  else:\n",
        "    print(\"Looks correct.\")\n",
        "except Exception as e:\n",
        "  print(\"An Error Occured: {}\".format(e))\n"
      ]
    },
    {
      "cell_type": "markdown",
      "metadata": {
        "id": "Gzuqx1jJrwVx"
      },
      "source": [
        "Когда мы делаем шаг обновления градиента политики, мы захотим сделать это, используя пакет опыта, а не просто один опыт, как выше. Мы можем использовать функцию JAX [vmap](https://jax.readthedocs.io/en/latest/_autosummary/jax.vmap.html#jax.vmap), чтобы легко заставить нашу функцию `policy_gradient_loss` работать с пакетом опыта."
      ]
    },
    {
      "cell_type": "code",
      "execution_count": 39,
      "metadata": {
        "id": "3yq4naLURjM4",
        "colab": {
          "base_uri": "https://localhost:8080/"
        },
        "outputId": "d76e13e3-3200-440e-91c9-5257922f850b"
      },
      "outputs": [
        {
          "output_type": "stream",
          "name": "stdout",
          "text": [
            "Policy gradient loss on batch: 1.6967314\n"
          ]
        }
      ],
      "source": [
        "def batched_policy_gradient_loss(params, obs_batch, action_batch, reward_to_go_batch):\n",
        "    # Get logits by passing observation through network\n",
        "    logits_batch = POLICY_NETWORK.apply(params, obs_batch)\n",
        "\n",
        "    policy_gradient_loss_batch = jax.vmap(policy_gradient_loss)(\n",
        "        action_batch,\n",
        "        logits_batch,\n",
        "        reward_to_go_batch) # add batch\n",
        "\n",
        "    # Compute mean loss over batch\n",
        "    mean_policy_gradient_loss = jnp.mean(policy_gradient_loss_batch)\n",
        "\n",
        "    return mean_policy_gradient_loss\n",
        "\n",
        "# TEST\n",
        "obs_batch = np.ones((3, *obs_shape), \"float32\")\n",
        "actions_batch = np.array([1,0,0])\n",
        "rew2go_batch = np.array([2.3, 4.3, 2.1])\n",
        "\n",
        "loss = batched_policy_gradient_loss(REINFORCE_params, obs_batch, actions_batch, rew2go_batch)\n",
        "\n",
        "print(\"Policy gradient loss on batch:\", loss)"
      ]
    },
    {
      "cell_type": "markdown",
      "metadata": {
        "id": "VDhTH3culwqo"
      },
      "source": [
        "### Оптимизатор сети\n",
        "\n",
        "Чтобы применить обновления градиента политики к нашей нейронной сети, мы будем использовать библиотеку JAX под названием [Optax](https://github.com/deepmind/optax). Optax имеет реализацию [оптимизатора Adam](https://www.geeksforgeeks.org/intuition-of-adam-optimizer/), которую мы можем использовать."
      ]
    },
    {
      "cell_type": "code",
      "execution_count": 40,
      "metadata": {
        "id": "pxXINlMHP5Ic"
      },
      "outputs": [],
      "source": [
        "REINFORCE_OPTIMIZER = optax.adam(1e-3)\n",
        "\n",
        "# Initialise the optimiser\n",
        "REINFORCE_optim_state = REINFORCE_OPTIMIZER.init(REINFORCE_params)"
      ]
    },
    {
      "cell_type": "markdown",
      "metadata": {
        "id": "ViENrHOALbCw"
      },
      "source": [
        "Теперь у нас есть все необходимое для создания функции `REINFORCE_learn`. Мы сохраним состояние оптимизатора в `learn_state`. Мы вычислим градиент потерь градиента политики с помощью  `jax.grad` ([docs](https://jax.readthedocs.io/en/latest/_autosummary/jax.grad.html))."
      ]
    },
    {
      "cell_type": "code",
      "execution_count": 41,
      "metadata": {
        "id": "CQr2Uz5ORjM5"
      },
      "outputs": [],
      "source": [
        "# A NamedTuple to store the state of the optimiser\n",
        "REINFORCELearnState = collections.namedtuple(\"LearnerState\", [\"optim_state\"])\n",
        "\n",
        "\n",
        "def REINFORCE_learn(key, params, learner_state, memory):\n",
        "\n",
        "  # Get the policy gradient by using `jax.grad()` on `batched_policy_gradient_loss`\n",
        "  grad_loss = jax.grad(batched_policy_gradient_loss)(params, memory.obs, memory.action, memory.reward_to_go)\n",
        "\n",
        "  # Get param updates using gradient and optimizer\n",
        "  updates, new_optim_state = REINFORCE_OPTIMIZER.update(grad_loss, learner_state.optim_state)\n",
        "\n",
        "  # Apply updates to params\n",
        "  params = optax.apply_updates(params, updates)\n",
        "\n",
        "  return params, REINFORCELearnState(new_optim_state) # update learner state"
      ]
    },
    {
      "cell_type": "markdown",
      "metadata": {
        "id": "5an3U2NhRKgG"
      },
      "source": [
        "### Цикл обучения REINFORCE\n",
        "Теперь мы можем обучить нашего агента REINFORCE, собрав все воедино с помощью цикла обучения."
      ]
    },
    {
      "cell_type": "code",
      "execution_count": 42,
      "metadata": {
        "id": "vioIcVGsRjM5",
        "colab": {
          "base_uri": "https://localhost:8080/",
          "height": 680
        },
        "outputId": "4656a269-e6da-456b-a7ee-92bbcb17edc4"
      },
      "outputs": [
        {
          "output_type": "stream",
          "name": "stdout",
          "text": [
            "Starting training. This may take up to 10 minutes to complete.\n",
            "Episode: 0\tEpisode Return: 12.0\tAverage Episode Return: 12.0\tEvaluator Episode Return: 17.5\n",
            "Episode: 100\tEpisode Return: 57.0\tAverage Episode Return: 38.55\tEvaluator Episode Return: 54.625\n",
            "Episode: 200\tEpisode Return: 149.0\tAverage Episode Return: 164.25\tEvaluator Episode Return: 176.625\n",
            "Episode: 300\tEpisode Return: 200.0\tAverage Episode Return: 199.75\tEvaluator Episode Return: 199.875\n",
            "Episode: 400\tEpisode Return: 165.0\tAverage Episode Return: 158.5\tEvaluator Episode Return: 156.625\n",
            "Episode: 500\tEpisode Return: 181.0\tAverage Episode Return: 196.1\tEvaluator Episode Return: 175.375\n",
            "Episode: 600\tEpisode Return: 167.0\tAverage Episode Return: 186.4\tEvaluator Episode Return: 174.375\n",
            "Episode: 700\tEpisode Return: 181.0\tAverage Episode Return: 176.35\tEvaluator Episode Return: 170.75\n",
            "Episode: 800\tEpisode Return: 200.0\tAverage Episode Return: 200.0\tEvaluator Episode Return: 198.25\n",
            "Episode: 900\tEpisode Return: 200.0\tAverage Episode Return: 199.3\tEvaluator Episode Return: 200.0\n",
            "Episode: 1000\tEpisode Return: 101.0\tAverage Episode Return: 183.45\tEvaluator Episode Return: 169.875\n"
          ]
        },
        {
          "output_type": "display_data",
          "data": {
            "text/plain": [
              "<Figure size 640x480 with 1 Axes>"
            ],
            "image/png": "[encoded data removed]"
          },
          "metadata": {}
        }
      ],
      "source": [
        "# JIT the choose_action and learn functions for more speed\n",
        "REINFORCE_learn_jit = jax.jit(REINFORCE_learn)\n",
        "REINFORCE_choose_action_jit = jax.jit(REINFORCE_choose_action)\n",
        "\n",
        "# Initial learn state\n",
        "REINFORCE_learn_state = REINFORCELearnState(REINFORCE_optim_state)\n",
        "\n",
        "# Run training loop\n",
        "print(\"Starting training. This may take up to 10 minutes to complete.\")\n",
        "episode_returns, evaluator_returns = run_training_loop(\n",
        "                                        env_name,\n",
        "                                        REINFORCE_params,\n",
        "                                        REINFORCE_choose_action_jit,\n",
        "                                        None, # action state not used\n",
        "                                        REINFORCE_learn_jit,\n",
        "                                        REINFORCE_learn_state,\n",
        "                                        REINFORCE_memory,\n",
        "                                        num_episodes=1001,\n",
        "                                        learn_steps_per_episode=2,\n",
        "                                        video_subdir=\"reinforce\"\n",
        "                                      )\n",
        "\n",
        "# Plot the episode returns\n",
        "plt.plot(episode_returns)\n",
        "plt.xlabel(\"Episode\")\n",
        "plt.ylabel(\"Episode Return\")\n",
        "plt.title(\"REINFORCE\")\n",
        "plt.show()\n"
      ]
    },
    {
      "cell_type": "code",
      "execution_count": null,
      "metadata": {
        "id": "caKL3ngNr_Yh",
        "colab": {
          "base_uri": "https://localhost:8080/",
          "height": 288
        },
        "outputId": "8bb08f95-2aca-4c6b-c9b5-60e99a9072b5"
      },
      "outputs": [
        {
          "output_type": "execute_result",
          "data": {
            "text/plain": [
              "<IPython.core.display.HTML object>"
            ],
            "text/html": [
              "\n",
              "<video width=400 controls>\n",
              "      <source src=\"data:video/mp4;base64,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\" type=\"video/mp4\">\n",
              "</video>\n"
            ]
          },
          "metadata": {},
          "execution_count": 97
        }
      ],
      "source": [
        "#@title Визуализация {display-mode: \"form\"}\n",
        "#@markdown Выберите номер эпизода, менее или равного 1000, и **run this cell**.\n",
        "\n",
        "episode_number = 800 #@param {type:\"number\"}\n",
        "\n",
        "assert (episode_number % 100) == 0, \"Episode number must be a multiple of 100 since we only record every 100th episode.\"\n",
        "assert episode_number < 1001, \"Episode number must be less than or equal to 1000\"\n",
        "\n",
        "eval_episode_number = int(episode_number / 100 * 8)\n",
        "video_path = f\"./video/reinforce/eval/rl-video-episode-{eval_episode_number}.mp4\"\n",
        "\n",
        "mp4 = open(video_path,'rb').read()\n",
        "data_url = \"data:video/mp4;base64,\" + b64encode(mp4).decode()\n",
        "HTML(\"\"\"\n",
        "<video width=400 controls>\n",
        "      <source src=\"%s\" type=\"video/mp4\">\n",
        "</video>\n",
        "\"\"\" % data_url)"
      ]
    },
    {
      "cell_type": "markdown",
      "metadata": {
        "id": "D_HHzFTOc-Qr"
      },
      "source": [
        "## 4. Q-Learning\n",
        "Другим распространенным подходом к поиску оптимальной политики в среде с использованием RL является Q-обучение."
      ]
    },
    {
      "cell_type": "markdown",
      "metadata": {
        "id": "lF1nOZrUSzhE"
      },
      "source": [
        "### Функция значения состояния-действия\n",
        "В Q-обучении агент изучает функцию, которая аппроксимирует **значение** пар состояние-действие. Под *значением* мы подразумеваем отдачу, которую вы ожидаете получить, если начнете в определенном состоянии $s_t$, выполните определенное действие $a_t$, а затем будете действовать в соответствии с определенной политикой $\\pi$ навсегда. Функция значения состояния-действия политики $\\pi$ задается как\n",
        "\n",
        "$Q_\\pi(s,a)=\\mathrm{E}_{\\tau\\sim\\pi}\\left[R(\\tau) \\mid s_0=s,\\ a_t=a\\right]$.\n",
        "\n",
        "Мы говорим, что функция значения $Q_\\pi(s,a)$ является **оптимальной** функцией значения, если политика $\\pi$ является оптимальной политикой. Обозначим функцию оптимального значения следующим образом:\n",
        "\n",
        "$Q_\\ast(s,a)=\\max \\limits_\\pi \\ \\mathrm{E}_{\\tau\\sim\\pi}\\left[R(\\tau) \\mid s_0=s,\\ a_0=a\\right]$\n",
        "\n",
        "Существует важная связь между оптимальным действием $a_\\ast$ в состоянии $s$ и оптимальной функцией значения состояния-действия $Q_\\ast$. А именно, оптимальное действие $a_\\ast$ в состоянии $s$ равно действию, которое максимизирует оптимальную функцию значения состояния-действия. Эта связь естественным образом индуцирует оптимальную политику:\n",
        "\n",
        "$\\pi_\\ast(s)=\\arg \\max \\limits_a\\ Q_\\ast(s, a)$"
      ]
    },
    {
      "cell_type": "markdown",
      "metadata": {
        "id": "H2x2tqvZSihz"
      },
      "source": [
        "### Greedy action selection (Жадный выбор действия)\n",
        "\n",
        "**Упражнение 10:** Давайте реализуем функцию, которая, учитывая вектор Q-значений, возвращает действие с наибольшим Q-значением (т. е. жадное действие).\n",
        "\n",
        "**Useful methods:**\n",
        "*   `jax.numpy.argmax` ([docs](https://jax.readthedocs.io/en/latest/_autosummary/jax.numpy.argmax.html))"
      ]
    },
    {
      "cell_type": "code",
      "execution_count": 88,
      "metadata": {
        "id": "Nn9P1YdzTIDU"
      },
      "outputs": [],
      "source": [
        "import jax.numpy as jnp\n",
        "\n",
        "def select_greedy_action(q_values):\n",
        "\n",
        "    # Выбор индекса максимального Q-значения\n",
        "    action = jnp.argmax(q_values)\n",
        "    return action\n"
      ]
    },
    {
      "cell_type": "code",
      "execution_count": 44,
      "metadata": {
        "id": "ZBzLr_G7QKXR",
        "colab": {
          "base_uri": "https://localhost:8080/"
        },
        "outputId": "150c0758-50f5-4c2e-add1-44f41fe23024"
      },
      "outputs": [
        {
          "output_type": "stream",
          "name": "stdout",
          "text": [
            "Looks good.\n"
          ]
        }
      ],
      "source": [
        "# @title Проверка упр 10 (run me) {display-mode: \"form\"}\n",
        "\n",
        "try:\n",
        "  q_values = jnp.array([1,1,3,4])\n",
        "  action = select_greedy_action(q_values)\n",
        "\n",
        "  if action != 3:\n",
        "    print(\"Incorrect answer, your greedy action selector looks wrong\")\n",
        "  else:\n",
        "    print(\"Looks good.\")\n",
        "except Exception as e:\n",
        "  print(\"An Error Occured: {}\".format(e))\n"
      ]
    },
    {
      "cell_type": "markdown",
      "metadata": {
        "id": "PFQUlqZ4ZyLp"
      },
      "source": [
        "### Q-Network\n",
        "В отличие от подхода с градиентом политики из предыдущего раздела, в Q-обучении и других методах RL на основе значений нам не нужна параметризация для политики, вместо этого мы параметризуем Q-функцию с помощью нейронной сети $Q_\\theta$. Мы получаем политику из Q-сети, всегда выбирая действие с *наибольшим* значением:\n",
        "\n",
        "$\\hat{\\pi}_\\theta(s)=\\arg \\max \\limits_a\\ Q_{\\theta}(s, a)$\n",
        "\n",
        "Как и ранее, мы будем использовать хайку для создания нейронной сети для аппроксимации этой Q-функции. Сеть будет принимать наблюдение в качестве входных данных, а затем выводить Q-значение для каждого из доступных действий. Таким образом, в случае CartPole выход сети будет иметь размер $2$."
      ]
    },
    {
      "cell_type": "code",
      "execution_count": 45,
      "metadata": {
        "id": "9wU1soJYZyLp"
      },
      "outputs": [],
      "source": [
        "def build_network(num_actions: int, layers=[20, 20]) -> hk.Transformed:\n",
        "  \"\"\"Factory for a simple MLP network for approximating Q-values.\"\"\"\n",
        "\n",
        "  def q_network(obs):\n",
        "    network = hk.Sequential(\n",
        "        [hk.Flatten(),\n",
        "         hk.nets.MLP(layers + [num_actions])])\n",
        "    return network(obs)\n",
        "\n",
        "  return hk.without_apply_rng(hk.transform(q_network))"
      ]
    },
    {
      "cell_type": "markdown",
      "metadata": {
        "id": "sUwG-4qTS1zx"
      },
      "source": [
        "Давайте инициализируем нашу Q-сеть и получим начальные параметры."
      ]
    },
    {
      "cell_type": "code",
      "execution_count": 46,
      "metadata": {
        "id": "1uvq5n2cS9lu",
        "colab": {
          "base_uri": "https://localhost:8080/"
        },
        "outputId": "dd22db2a-95a5-42ed-bf5c-b6e2dc198463"
      },
      "outputs": [
        {
          "output_type": "stream",
          "name": "stdout",
          "text": [
            "Q-Learning params: dict_keys(['mlp/~/linear_0', 'mlp/~/linear_1', 'mlp/~/linear_2'])\n"
          ]
        }
      ],
      "source": [
        "# Initialise Q-network\n",
        "Q_NETWORK = build_network(num_actions=num_actions, layers=[20, 20]) # two actions\n",
        "\n",
        "dummy_obs = jnp.zeros((1,*obs_shape), jnp.float32) # a dummy observation like the one in CartPole\n",
        "\n",
        "random_key = jax.random.PRNGKey(42) # random key\n",
        "Q_NETWORK_PARAMS = Q_NETWORK.init(random_key, dummy_obs) # Get initial params\n",
        "\n",
        "print(\"Q-Learning params:\", Q_NETWORK_PARAMS.keys())"
      ]
    },
    {
      "cell_type": "markdown",
      "metadata": {
        "id": "iqCUeZfhEfyP"
      },
      "source": [
        "Прежде чем мы реализуем функцию потерь, необходимую для обучения нашей Q-сети, давайте сначала обсудим интуицию, стоящую за ней."
      ]
    },
    {
      "cell_type": "markdown",
      "metadata": {
        "id": "vbLig3uSZyLp"
      },
      "source": [
        "### The Bellman Equations (Уравнения Беллмана)\n",
        "Функция значения может быть записана рекурсивно как:\n",
        "\n",
        "$Q_{\\pi}(s, a) =\\underset{s^{\\prime} \\sim P}{\\mathrm{E}}\\left[r(s, a)+ \\underset{a^{\\prime} \\sim \\pi}{\\mathrm{E}}\\left[Q_{\\pi}\\left(s^{\\prime}, a^{\\prime}\\right)\\right]\\right]$,\n",
        "\n",
        "где $s' \\sim P$ — это сокращение для обозначения того, что следующее состояние $s'$ выбирается из функции перехода среды $P(s'\\mid s,a)$. Интуитивно это уравнение говорит, что ценность действия $a$, которое вы предприняли в состоянии $s$, равна вознаграждению $r$, которое вы ожидаете получить, плюс ценность, которую вы ожидаете получить в следующем состоянии $s`$, в котором вы окажетесь, при условии, что вы выберете свое следующее действие $a`$ с политикой $\\pi$. Уравнение Беллмана для оптимальной функции ценности выглядит так:\n",
        "\n",
        "$Q_{*}(s, a) =\\underset{s^{\\prime} \\sim P}{\\mathrm{E}}\\left[r(s, a)+\\ \\underset{a^{\\prime}}{\\max}\\ Q_{*}(s^{\\prime}, a^{\\prime})\\right]$\n",
        "\n",
        "Обратите внимание, что вместо выбора вашего следующего действия $a`$ с политикой $\\pi$ мы выбираем действие с наибольшим значением Q.\n",
        "\n",
        "Более подробное обсуждение уравнений Беллмана можно найти на сайте [OpenAI Spinning Up](https://spinningup.openai.com/en/latest/spinningup/rl_intro.html)."
      ]
    },
    {
      "cell_type": "markdown",
      "metadata": {
        "id": "DsOJi5G8ZyLp"
      },
      "source": [
        "### The Bellman Backup (Резервное копирование Беллмана)\n",
        "\n",
        "Чтобы научиться аппроксимировать оптимальную функцию Q-значения, мы можем использовать правую часть уравнения Беллмана в качестве правила обновления. Другими словами, предположим, что у нас есть Q-сеть $Q_\\theta$, аппроксимированная с использованием параметров $\\theta$, тогда мы можем итеративно обновлять параметры таким образом, что\n",
        "\n",
        "$Q_\\theta(s,a)\\leftarrow r(s, a) + \\underset{a'}{\\max}\\ Q_\\theta(s', a')$.\n",
        "\n",
        "Интуитивно это означает, что аппроксимация Q-значения действия $a$ в состоянии $s$ должна быть обновлена ​​таким образом, чтобы она была ближе к равной вознаграждению, полученному от среды $r(s, a)$, плюс значение наилучшего возможного действия в следующем состоянии $s'$. Мы можем выполнить эту оптимизацию, минимизируя разницу между левой и правой частью относительно параметров $\\theta$, используя градиентный спуск. Мы можем измерить разницу между двумя значениями, используя [квадратичную ошибку](https://en.wikipedia.org/wiki/Mean_squared_error#Loss_function).\n",
        "\n",
        "**Упражнение 11:** Реализуйте функцию квадратичной ошибки.\n",
        "\n",
        "**Полезные функции**\n",
        "* `jax.numpy.square` ([docs](https://jax.readthedocs.io/en/latest/_autosummary/jax.numpy.square.html))"
      ]
    },
    {
      "cell_type": "code",
      "execution_count": 87,
      "metadata": {
        "id": "PTto__ohZyLp"
      },
      "outputs": [],
      "source": [
        "import jax.numpy as jnp\n",
        "\n",
        "def compute_squared_error(pred, target):\n",
        "\n",
        "    # Вычисление квадратичной ошибки\n",
        "    squared_error = jnp.square(pred - target)\n",
        "    return squared_error\n"
      ]
    },
    {
      "cell_type": "code",
      "execution_count": 48,
      "metadata": {
        "id": "wGhX8XTFVPVU",
        "colab": {
          "base_uri": "https://localhost:8080/"
        },
        "outputId": "477caf57-f973-4305-c188-7d2210a11a57"
      },
      "outputs": [
        {
          "output_type": "stream",
          "name": "stdout",
          "text": [
            "Looks good.\n"
          ]
        }
      ],
      "source": [
        "#@title Проверка упр 11 {display-mode: \"form\"}\n",
        "\n",
        "try:\n",
        "  result = compute_squared_error(1, 4)\n",
        "\n",
        "  if result != 9:\n",
        "    print(\"Your implementation looks wrong.\")\n",
        "  else:\n",
        "    print(\"Looks good.\")\n",
        "except Exception as e:\n",
        "  print(\"An Error Occured: {}\".format(e))"
      ]
    },
    {
      "cell_type": "markdown",
      "metadata": {
        "id": "ycpZVkgdZyLp"
      },
      "source": [
        "**Упражнение 12:** Реализуйте функцию, которая вычисляет **цель Беллмана** (правая часть уравнения Беллмана). Если эпизод находится на последнем временном шаге (т. е. done==1.0), то цель Беллмана должна быть равна награде, без дополнительного значения в конце.\n",
        "\n",
        "**Полезные функции**\n",
        "* `jax.numpy.max` ([docs](https://jax.readthedocs.io/en/latest/_autosummary/jax.numpy.max.html))"
      ]
    },
    {
      "cell_type": "code",
      "execution_count": 86,
      "metadata": {
        "id": "961_OllWZyLp"
      },
      "outputs": [],
      "source": [
        "import jax.numpy as jnp\n",
        "\n",
        "def compute_bellman_target(reward, done, next_q_values, gamma=1.0):\n",
        "\n",
        "    max_next_q = jnp.max(next_q_values)  # Максимальное Q-значение следующего состояния\n",
        "    bellman_target = reward + gamma * max_next_q * (1 - done)\n",
        "    return bellman_target\n"
      ]
    },
    {
      "cell_type": "code",
      "execution_count": 62,
      "metadata": {
        "id": "E5RAhegOWAkC",
        "colab": {
          "base_uri": "https://localhost:8080/"
        },
        "outputId": "d64a16e0-ce78-405a-ec9d-7404bfc44e61"
      },
      "outputs": [
        {
          "output_type": "stream",
          "name": "stdout",
          "text": [
            "Looks good.\n"
          ]
        }
      ],
      "source": [
        "#@title Проверка упр 12 {display-mode: \"form\"}\n",
        "\n",
        "try:\n",
        "  # not done\n",
        "  result1 = compute_bellman_target(1, 0.0, np.array([3,2], \"float32\"))\n",
        "\n",
        "  # done\n",
        "  result2 = compute_bellman_target(1, 1.0, np.array([3,2], \"float32\"))\n",
        "\n",
        "  if result1 != 4 or result2 != 1:\n",
        "    print(\"Your implementation looks wrong.\")\n",
        "  else:\n",
        "    print(\"Looks good.\")\n",
        "except Exception as e:\n",
        "  print(\"An Error Occured: {}\".format(e))"
      ]
    },
    {
      "cell_type": "markdown",
      "metadata": {
        "id": "8sIjrHSJZyLq"
      },
      "source": [
        "Теперь мы можем объединить эти две функции, чтобы вычислить потерю для Q-обучения. Потери Q-обучения равны квадрату разницы между прогнозируемым значением Q действия и его соответствующей целью Беллмана.\n",
        "\n",
        "**Упражнение 13:** Реализуйте функцию потери Q-обучения."
      ]
    },
    {
      "cell_type": "code",
      "execution_count": 83,
      "metadata": {
        "id": "LJY_kpFcZyLq"
      },
      "outputs": [],
      "source": [
        "import jax.numpy as jnp\n",
        "\n",
        "def q_learning_loss(q_values, action, reward, done, next_q_values, gamma=1.0):\n",
        "\n",
        "    chosen_action_q_value = q_values[action]\n",
        "    max_next_q = jnp.max(next_q_values)\n",
        "    bellman_target = reward + gamma * max_next_q * (1 - done)\n",
        "    squared_error = (chosen_action_q_value - bellman_target)**2\n",
        "    return squared_error\n"
      ]
    },
    {
      "cell_type": "code",
      "execution_count": 64,
      "metadata": {
        "id": "1aZRn1qaWx2M",
        "colab": {
          "base_uri": "https://localhost:8080/"
        },
        "outputId": "748ba334-fb30-4055-9173-fe2bf59e2f32"
      },
      "outputs": [
        {
          "output_type": "stream",
          "name": "stdout",
          "text": [
            "Looks good.\n"
          ]
        }
      ],
      "source": [
        "#@title Проверка упр 13 {display-mode: \"form\"}\n",
        "\n",
        "try:\n",
        "  result = q_learning_loss(np.array([3,2], \"float32\"), 1, 2, 0.0, np.array([3,2], \"float32\"))\n",
        "\n",
        "  if result != 9.0:\n",
        "    print(\"Your implementation looks wrong.\")\n",
        "  else:\n",
        "    print(\"Looks good.\")\n",
        "except Exception as e:\n",
        "  print(\"An Error Occured: {}\".format(e))"
      ]
    },
    {
      "cell_type": "markdown",
      "metadata": {
        "id": "b4YnSUfJZyLq"
      },
      "source": [
        "### Target Q-network (Целевая Q-сеть)\n",
        "Обратите внимание: когда мы вычисляем цель Беллмана, мы используем нашу Q-сеть $Q_\\theta$ для вычисления значения для следующего состояния $s_t$. По сути, мы используем наше последнее приближение Q-функции для вычисления цели нашего следующего приближения. Использование приближения для вычисления цели для вашего следующего приближения называется самозагрузкой. К сожалению, если мы наивно делаем такую ​​самозагрузку, это может сделать обучение нейронной сети очень нестабильным. Чтобы смягчить это, мы можем вместо этого использовать другой набор параметров $\\hat{\\theta}$ для вычисления значений в состоянии $s_{t+1}$. Мы будем сохранять параметры $\\hat{\\theta}$ фиксированными и только периодически обновлять их, чтобы они были равны последним онлайн-параметрам $\\theta$ каждые пару шагов обучения *(скажем, 100)*. Это позволяет сохранять фиксированные цели Беллмана для пары шагов обучения, чтобы помочь снизить нестабильность из-за самозагрузки.\n",
        "\n",
        "Нам нужно будет отслеживать последние (онлайн) параметры, а также параметры целевых сетей. Давайте создадим `NamedTuple` для хранения этих двух значений. Нам также нужно будет отслеживать количество шагов обучения, которые мы сделали, чтобы знать, когда обновлять целевую сеть. Давайте сохраним `count` шагов обучения в `learn_state`."
      ]
    },
    {
      "cell_type": "code",
      "execution_count": 65,
      "metadata": {
        "id": "DvZqUKmq6L7k"
      },
      "outputs": [],
      "source": [
        "# Store online and target parameters\n",
        "QLearnParams = collections.namedtuple(\"Params\", [\"online\", \"target\"])\n",
        "\n",
        "# Q-learn-state\n",
        "QLearnState = collections.namedtuple(\"LearnerState\", [\"count\", \"optim_state\"])"
      ]
    },
    {
      "cell_type": "markdown",
      "metadata": {
        "id": "CJWH2_kNZsau"
      },
      "source": [
        "Мы снова будем использовать Optax для оптимизации нашей нейронной сети в JAX. Мы сохраняем состояние оптимизатора в `learn_state` выше. Давайте теперь создадим экземпляр оптимизатора и добавим начальные параметры Q-сети в объект `QLearnParams`."
      ]
    },
    {
      "cell_type": "code",
      "execution_count": 66,
      "metadata": {
        "id": "HwqKTN6BaAXE"
      },
      "outputs": [],
      "source": [
        "# Initialise Q-network optimizer\n",
        "Q_LEARN_OPTIMIZER = optax.adam(3e-4) # learning rate\n",
        "\n",
        "Q_LEARN_OPTIM_STATE = Q_LEARN_OPTIMIZER.init(Q_NETWORK_PARAMS) # initial optim state\n",
        "\n",
        "# Create Learn State\n",
        "Q_LEARNING_LEARN_STATE = QLearnState(0, Q_LEARN_OPTIM_STATE) # count set to zero initially\n",
        "\n",
        "# Add initial Q-network weights to QLearnParams object\n",
        "Q_LEARNING_PARAMS = QLearnParams(online=Q_NETWORK_PARAMS, target=Q_NETWORK_PARAMS) # target equal to online"
      ]
    },
    {
      "cell_type": "markdown",
      "metadata": {
        "id": "xj89M8LgZlFe"
      },
      "source": [
        "Теперь мы можем реализовать простую функцию, которая обновляет параметры целевых сетей, чтобы они соответствовали последним онлайн-параметрам каждые 100 шагов обучения."
      ]
    },
    {
      "cell_type": "code",
      "execution_count": 67,
      "metadata": {
        "id": "SKrg_3rO6cCL"
      },
      "outputs": [],
      "source": [
        "def update_target_params(learn_state, online_weights, target_weights):\n",
        "  \"\"\"A function to update target params every 100 training steps\"\"\"\n",
        "\n",
        "  target = jax.lax.cond(\n",
        "      jax.numpy.mod(learn_state.count, 100) == 0,\n",
        "      lambda x, y: x,\n",
        "      lambda x, y: y,\n",
        "      online_weights,\n",
        "      target_weights\n",
        "  )\n",
        "\n",
        "  params = QLearnParams(online_weights, target)\n",
        "\n",
        "  return params"
      ]
    },
    {
      "cell_type": "markdown",
      "metadata": {
        "id": "KoiaYSo9ZyLq"
      },
      "source": [
        "### Q-learning loss (Функция потери Q-обучения)\n",
        "Теперь у нас есть все необходимое для реализации функции `q_learn`, которая принимает некоторую партию переходов и выполняет шаг Q-обучения для обновления параметров сети. Но сначала мы используем `jax.vmap` для изменения функции `q_learning_loss` так, чтобы она принимала партии переходов. Кроме того, мы вычислим Q-значения, передавая наблюдения через `Q_NETWORK`, и целевые Q-значения, используя целевые параметры `Q_NETWORK`."
      ]
    },
    {
      "cell_type": "code",
      "execution_count": 68,
      "metadata": {
        "id": "hnrsGppWZyLq"
      },
      "outputs": [],
      "source": [
        "def batched_q_learning_loss(online_params, target_params, obs, actions, rewards, next_obs, dones):\n",
        "    q_values = Q_NETWORK.apply(online_params, obs) # use the online parameters\n",
        "    next_q_values = Q_NETWORK.apply(target_params, next_obs) # use the target parameters\n",
        "    squared_error = jax.vmap(q_learning_loss)(q_values, actions, rewards, dones, next_q_values) # vmap q_learning_loss\n",
        "    mean_squared_error = jnp.mean(squared_error) # mean squared error over batch\n",
        "    return mean_squared_error"
      ]
    },
    {
      "cell_type": "markdown",
      "metadata": {
        "id": "CU8vo9ZebnEa"
      },
      "source": [
        "Теперь мы можем создать функцию `q_learn`, которая вычисляет градиент `batched_q_learning_loss`, а затем использует оптимизатор Optax для обновления весов сети, а затем, наконец (возможно), обновляет целевые параметры."
      ]
    },
    {
      "cell_type": "code",
      "execution_count": 69,
      "metadata": {
        "id": "6BYoX2W_ZyLr"
      },
      "outputs": [],
      "source": [
        "def q_learn(rng, params, learner_state, memory):\n",
        "  # Compute gradients\n",
        "  grad_loss = jax.grad(batched_q_learning_loss)(params.online, params.target, memory.obs,\n",
        "                                          memory.action, memory.reward,\n",
        "                                          memory.next_obs, memory.done,\n",
        "                                          ) # jax.grad\n",
        "\n",
        "  # Get updates\n",
        "  updates, opt_state = Q_LEARN_OPTIMIZER.update(grad_loss, learner_state.optim_state)\n",
        "\n",
        "  # Apply them\n",
        "  new_weights = optax.apply_updates(params.online, updates)\n",
        "\n",
        "  # Maybe update target network\n",
        "  params = update_target_params(learner_state, new_weights, params.target)\n",
        "\n",
        "  # Increment learner step counter\n",
        "  learner_state = QLearnState(learner_state.count + 1, opt_state)\n",
        "\n",
        "  return params, learner_state"
      ]
    },
    {
      "cell_type": "markdown",
      "metadata": {
        "id": "VpZsKHssZyLq"
      },
      "source": [
        "### Replay Buffer (Буфер воспроизведения)\n",
        "Для Q-обучения нам понадобится память агента, которая хранит целые переходы: `obs`, `action`, `reward`, `next_obs`, `done`. Когда мы извлекаем переходы из памяти, они должны выбираться случайным образом из всех переходов, собранных до сих пор. В RL мы часто называем такой модуль **буфером воспроизведения**.\n",
        "\n",
        "Одним из преимуществ использования такого буфера воспроизведения является то, что опыт можно повторно использовать несколько раз для обучения, в отличие от алгоритма градиента политики REINFORCE, где мы отбрасывали воспоминания после их использования для обучения."
      ]
    },
    {
      "cell_type": "code",
      "execution_count": 70,
      "metadata": {
        "id": "8tv5dUH6ZyLr"
      },
      "outputs": [],
      "source": [
        "class TransitionMemory(object):\n",
        "  \"\"\"A simple Python replay buffer.\"\"\"\n",
        "\n",
        "  def __init__(self, max_size=10_000, batch_size=256):\n",
        "    self.batch_size = batch_size\n",
        "    self.buffer = collections.deque(maxlen=max_size)\n",
        "\n",
        "  def push(self, transition):\n",
        "\n",
        "    # add transition to the replay buffer\n",
        "    self.buffer.append(\n",
        "        (transition.obs, transition.action, transition.reward,\n",
        "          transition.next_obs, transition.done)\n",
        "    )\n",
        "\n",
        "\n",
        "  def is_ready(self):\n",
        "    return self.batch_size <= len(self.buffer)\n",
        "\n",
        "  def sample(self):\n",
        "    # Randomly sample a batch of transitions from the buffer\n",
        "    random_replay_sample = random.sample(self.buffer, self.batch_size)\n",
        "\n",
        "    # Batch the transitions together\n",
        "    obs_batch, action_batch, reward_batch, next_obs_batch, done_batch = zip(*random_replay_sample)\n",
        "\n",
        "    return Transition(\n",
        "        np.stack(obs_batch).astype(\"float32\"),\n",
        "        np.asarray(action_batch).astype(\"int32\"),\n",
        "        np.asarray(reward_batch).astype(\"float32\"),\n",
        "        np.stack(next_obs_batch).astype(\"float32\"),\n",
        "        np.asarray(done_batch).astype(\"float32\")\n",
        "    )\n",
        "\n",
        "# Instantiate the memory\n",
        "Q_LEARNING_MEMORY = TransitionMemory(max_size=50_000, batch_size=256)"
      ]
    },
    {
      "cell_type": "markdown",
      "metadata": {
        "id": "XbHk03VVUHAV"
      },
      "source": [
        "### Случайное исследование\n",
        "У нас почти есть все, что нужно для функционирующего агента Q-обучения. Но одна проблема заключается в том, что если мы всегда выбираем действие с наивысшим значением Q, то политика агента будет полностью [детерминированной](https://www.quora.com/What-is-the-intuitive-difference-between-a-stochastic-model-and-a-deterministic-model). Это означает, что агент всегда будет выбирать одну и ту же стратегию. Это может представлять проблему, поскольку в начале обучения Q-сеть будет очень неточной (т. е. плохой аппроксимацией истинной Q-функции). Таким образом, агент будет последовательно выбирать неоптимальные действия. Более того, агент никогда не отклонится от своей неоптимальной стратегии и никогда не обнаружит новые, потенциально более полезные действия. В результате Q-сеть остается неточной. В идеале агент должен опробовать много разных стратегий, чтобы он мог наблюдать результаты (вознаграждения) своих действий в разных состояниях и таким образом улучшить приближение Q-функции.\n",
        "\n",
        "Один простой способ гарантировать, что агент опробует много разных действий, — позволить ему периодически выбирать некоторые случайные действия вместо жадного (лучшего) действия все время.\n",
        "\n",
        "**Упражнение 14:** Реализуйте функцию, которая, учитывая количество возможных (дискретных) действий, возвращает случайное действие.\n",
        "\n",
        "**Полезные методы:**\n",
        "\n",
        "*  `jax.random.randint` ([docs](https://jax.readthedocs.io/en/latest/_autosummary/jax.random.randint.html))"
      ]
    },
    {
      "cell_type": "code",
      "execution_count": 85,
      "metadata": {
        "id": "uUKkpMLXUtko"
      },
      "outputs": [],
      "source": [
        "import jax\n",
        "import jax.numpy as jnp\n",
        "\n",
        "def select_random_action(key, num_actions):\n",
        "\n",
        "    # Генерация случайного индекса из диапазона [0, num_actions)\n",
        "    action = jax.random.randint(key, shape=(), minval=0, maxval=num_actions)\n",
        "    return action\n"
      ]
    },
    {
      "cell_type": "code",
      "execution_count": 73,
      "metadata": {
        "id": "NO6va6S2Y40E",
        "colab": {
          "base_uri": "https://localhost:8080/"
        },
        "outputId": "208959ff-644d-4657-bea1-e2333e4d6b26"
      },
      "outputs": [
        {
          "output_type": "stream",
          "name": "stdout",
          "text": [
            "Looks good.\n"
          ]
        }
      ],
      "source": [
        "#@title Проверка упр 14 {display-mode: \"form\"}\n",
        "\n",
        "try:\n",
        "  random_key1 = random_key = jax.random.PRNGKey(6) # random key\n",
        "  random_key2 = random_key = jax.random.PRNGKey(1000) # random key\n",
        "  result1 = select_random_action(random_key1, 2)\n",
        "  result2 = select_random_action(random_key2, 2)\n",
        "\n",
        "  if result1 != 1 or result2 != 0:\n",
        "    print(\"Your implementation looks wrong.\")\n",
        "  else:\n",
        "    print(\"Looks good.\")\n",
        "except:\n",
        "  print(\"Your implementation looks wrong.\")"
      ]
    },
    {
      "cell_type": "markdown",
      "metadata": {
        "id": "8-kKDFT6XU6y"
      },
      "source": [
        "### $\\varepsilon$-greedy action selection (эпсилон жадный выбор действия)\n",
        "В начале обучения, когда точность Q-сети низкая, агенту стоит в основном совершать случайные действия, чтобы он мог узнать, насколько хороши/плохи действия. Однако по мере повышения точности Q-сети агент должен начать совершать меньше случайных действий и вместо этого начать выбирать жадные действия относительно Q-значений. Выбор лучших действий с учетом текущей Q-сети называется **эксплуатацией**. В RL мы часто называем отношение случайных и жадных действий **эпсилоном** $\\varepsilon$. Эпсилон обычно представляет собой десятичное значение в интервале $[0,1]$, где, например, $\\varepsilon=0.4$ означает, что агент выбирает случайное действие в 40% случаев, а жадное действие — в 60% случаев. В RL принято линейно уменьшать значение эпсилон с течением времени, так что агент становится все более жадным по мере повышения точности его Q-сети в процессе обучения.\n",
        "\n",
        "**Упражнение 15:** Реализуйте функцию, которая принимает количество временных шагов в качестве входных данных и возвращает текущее значение эпсилон."
      ]
    },
    {
      "cell_type": "code",
      "execution_count": 75,
      "metadata": {
        "id": "_qejnbCocurG"
      },
      "outputs": [],
      "source": [
        "EPSILON_DECAY_TIMESTEPS = 3000 # decay epsilon over 3000 timesteps\n",
        "EPSILON_MIN = 0.1 # 10% exploration"
      ]
    },
    {
      "cell_type": "code",
      "execution_count": 84,
      "metadata": {
        "id": "5ujSbssCZyLs"
      },
      "outputs": [],
      "source": [
        "import jax.numpy as jnp\n",
        "\n",
        "EPSILON_DECAY_TIMESTEPS = 3000  # Время уменьшения эпсилон\n",
        "EPSILON_MIN = 0.1  # Минимальное значение эпсилон\n",
        "\n",
        "def get_epsilon(num_timesteps):\n",
        "\n",
        "    # Линейное убывание эпсилон\n",
        "    epsilon = 1.0 - (num_timesteps / EPSILON_DECAY_TIMESTEPS)\n",
        "\n",
        "    # Убедиться, что ε не меньше EPSILON_MIN\n",
        "    epsilon = jax.lax.select(epsilon < EPSILON_MIN, EPSILON_MIN, epsilon)\n",
        "\n",
        "    return epsilon\n"
      ]
    },
    {
      "cell_type": "code",
      "execution_count": 77,
      "metadata": {
        "id": "hvu4zA64aUou",
        "colab": {
          "base_uri": "https://localhost:8080/"
        },
        "outputId": "9dd13149-26af-4388-ce85-2bcd25939133"
      },
      "outputs": [
        {
          "output_type": "stream",
          "name": "stdout",
          "text": [
            "Your function looks correct.\n"
          ]
        }
      ],
      "source": [
        "#@title Проверка упр 15 {display-mode: \"form\"}\n",
        "def check_get_epsilon(get_epsilon):\n",
        "  try:\n",
        "    result1 = get_epsilon(10)\n",
        "    result2 = get_epsilon(5_010)\n",
        "\n",
        "    if result1 != 0.99666667 or result2 != 0.1:\n",
        "      print(\"Your function looks wrong.\")\n",
        "    else:\n",
        "      print(\"Your function looks correct.\")\n",
        "  except:\n",
        "    print(\"Your function looks wrong.\")\n",
        "\n",
        "check_get_epsilon(get_epsilon)\n"
      ]
    },
    {
      "cell_type": "markdown",
      "metadata": {
        "id": "t56oo58TVQ_s"
      },
      "source": [
        "**Упражнение 16:** Теперь давайте объединим эти функции для выполнения эпсилон-жадного выбора действия."
      ]
    },
    {
      "cell_type": "code",
      "execution_count": 82,
      "metadata": {
        "id": "NlQx8K4vKUXj"
      },
      "outputs": [],
      "source": [
        "import jax\n",
        "import jax.numpy as jnp\n",
        "\n",
        "def select_epsilon_greedy_action(key, q_values, num_timesteps):\n",
        "\n",
        "    num_actions = len(q_values)  # Количество доступных действий\n",
        "\n",
        "    # Получаем текущее значение epsilon\n",
        "    epsilon = get_epsilon(num_timesteps)\n",
        "\n",
        "    # Генерируем случайное число для проверки исследования\n",
        "    should_explore = jax.random.uniform(key) < epsilon\n",
        "\n",
        "    # Выбираем действие\n",
        "    action = jax.lax.select(\n",
        "        should_explore,\n",
        "        jax.random.randint(key, shape=(), minval=0, maxval=num_actions),  # Случайное действие\n",
        "        jnp.argmax(q_values)  # Жадное действие\n",
        "    )\n",
        "\n",
        "    return action\n"
      ]
    },
    {
      "cell_type": "code",
      "execution_count": 79,
      "metadata": {
        "id": "mkVU2a5e7P6b",
        "colab": {
          "base_uri": "https://localhost:8080/"
        },
        "outputId": "e62806d8-719b-43ae-f191-851fa313a8d6"
      },
      "outputs": [
        {
          "output_type": "stream",
          "name": "stdout",
          "text": [
            "Looks correct!\n"
          ]
        }
      ],
      "source": [
        "#@title Проверка упражнения 16 {display-mode: \"form\"}\n",
        "\n",
        "try:\n",
        "  rng = hk.PRNGSequence(jax.random.PRNGKey(42))\n",
        "  dummy_q_values = jnp.array([0,1], jnp.float32)\n",
        "  num_timesteps = 5010 # very greedy\n",
        "  actions1 = []\n",
        "  for i in range(10):\n",
        "      actions1.append(int(select_epsilon_greedy_action(next(rng), dummy_q_values, num_timesteps)))\n",
        "\n",
        "  num_timesteps = 0 # completly random\n",
        "  actions2 = []\n",
        "  for i in range(10):\n",
        "      actions2.append(int(select_epsilon_greedy_action(next(rng), dummy_q_values, num_timesteps)))\n",
        "\n",
        "  if actions1 != [1, 1, 0, 1, 1, 0, 1, 1, 1, 1] or actions2 != [0, 0, 0, 1, 1, 1, 1, 0, 0, 0]:\n",
        "    print(\"Looks like something might be incorrect!\")\n",
        "  else:\n",
        "    print(\"Looks correct!\")\n",
        "except:\n",
        "  print(\"Looks like something might be incorrect!\")"
      ]
    },
    {
      "cell_type": "markdown",
      "metadata": {
        "id": "y5W23MnobN9x"
      },
      "source": [
        "### Действие выбора Q-learning\n",
        "\n",
        "Теперь у нас есть все необходимое для создания функции `q_learning_select_action`. Мы будем использовать `actor_state` для хранения счетчика, который отслеживает текущее количество временных шагов. Мы можем использовать счетчик для уменьшения нашего значения `epsilon`."
      ]
    },
    {
      "cell_type": "code",
      "execution_count": 80,
      "metadata": {
        "id": "81TysLc0RjM6"
      },
      "outputs": [],
      "source": [
        "# Actor state stores the current number of timesteps\n",
        "QActorState = collections.namedtuple(\"ActorState\", [\"count\"])\n",
        "\n",
        "def q_learning_select_action(key, params, actor_state, obs, evaluation=False):\n",
        "    obs = jnp.expand_dims(obs, axis=0) # add dummy batch dim\n",
        "    q_values = Q_NETWORK.apply(params.online, obs)[0] # remove batch dim\n",
        "\n",
        "    action = select_epsilon_greedy_action(key, q_values, actor_state.count)\n",
        "    greedy_action = select_greedy_action(q_values)\n",
        "\n",
        "    action = jax.lax.select(\n",
        "        evaluation,\n",
        "        greedy_action,\n",
        "        action\n",
        "    )\n",
        "\n",
        "    next_actor_state = QActorState(actor_state.count + 1) # increment timestep counter\n",
        "\n",
        "    return action, next_actor_state\n",
        "\n",
        "Q_LEARNING_ACTOR_STATE = QActorState(0) # counter set to zero"
      ]
    },
    {
      "cell_type": "markdown",
      "metadata": {
        "id": "z884-1oNRGEr"
      },
      "source": [
        "### Обучение\n",
        "Теперь мы можем собрать все вместе, используя цикл агент-среда. Но сначала давайте объединим функцию выбора действия и функцию обучения для дополнительной скорости."
      ]
    },
    {
      "cell_type": "code",
      "execution_count": 81,
      "metadata": {
        "id": "xbdHDbd1RjM8",
        "colab": {
          "base_uri": "https://localhost:8080/",
          "height": 680
        },
        "outputId": "26faa68c-3e5d-4079-daf7-f79243c8d048"
      },
      "outputs": [
        {
          "output_type": "stream",
          "name": "stdout",
          "text": [
            "Starting training. This may take up to 8 minutes to complete.\n",
            "Episode: 0\tEpisode Return: 16.0\tAverage Episode Return: 16.0\tEvaluator Episode Return: 9.125\n",
            "Episode: 100\tEpisode Return: 23.0\tAverage Episode Return: 13.45\tEvaluator Episode Return: 9.25\n",
            "Episode: 200\tEpisode Return: 10.0\tAverage Episode Return: 9.85\tEvaluator Episode Return: 9.375\n",
            "Episode: 300\tEpisode Return: 10.0\tAverage Episode Return: 10.35\tEvaluator Episode Return: 9.0\n",
            "Episode: 400\tEpisode Return: 9.0\tAverage Episode Return: 9.8\tEvaluator Episode Return: 9.25\n",
            "Episode: 500\tEpisode Return: 40.0\tAverage Episode Return: 72.55\tEvaluator Episode Return: 52.875\n",
            "Episode: 600\tEpisode Return: 113.0\tAverage Episode Return: 141.85\tEvaluator Episode Return: 189.875\n",
            "Episode: 700\tEpisode Return: 200.0\tAverage Episode Return: 179.95\tEvaluator Episode Return: 196.125\n",
            "Episode: 800\tEpisode Return: 200.0\tAverage Episode Return: 200.0\tEvaluator Episode Return: 199.125\n",
            "Episode: 900\tEpisode Return: 200.0\tAverage Episode Return: 193.9\tEvaluator Episode Return: 200.0\n",
            "Episode: 1000\tEpisode Return: 17.0\tAverage Episode Return: 22.15\tEvaluator Episode Return: 16.75\n"
          ]
        },
        {
          "output_type": "display_data",
          "data": {
            "text/plain": [
              "<Figure size 640x480 with 1 Axes>"
            ],
            "image/png": "[encoded data removed]"
          },
          "metadata": {}
        }
      ],
      "source": [
        "# Jit functions\n",
        "q_learning_select_action_jit = jax.jit(q_learning_select_action)\n",
        "q_learn_jit = jax.jit(q_learn)\n",
        "\n",
        "# Run environment loop\n",
        "print(\"Starting training. This may take up to 8 minutes to complete.\")\n",
        "episode_returns, evaluator_returns = run_training_loop(\n",
        "                                        env_name,\n",
        "                                        Q_LEARNING_PARAMS,\n",
        "                                        q_learning_select_action_jit,\n",
        "                                        Q_LEARNING_ACTOR_STATE,\n",
        "                                        q_learn_jit,\n",
        "                                        Q_LEARNING_LEARN_STATE,\n",
        "                                        Q_LEARNING_MEMORY,\n",
        "                                        num_episodes=1001,\n",
        "                                        train_every_timestep=True, # do learning after every timestep\n",
        "                                        video_subdir=\"q_learning\"\n",
        "                                    )\n",
        "\n",
        "plt.plot(episode_returns)\n",
        "plt.xlabel(\"Episodes\")\n",
        "plt.ylabel(\"Episode Return\")\n",
        "plt.title(\"Deep Q-Learning\")\n",
        "plt.show()"
      ]
    },
    {
      "cell_type": "markdown",
      "metadata": {
        "id": "2k0-41wbpFDE"
      },
      "source": [
        "На этом этапе, как мы надеемся, приближенная Q-функция сошлась к приемлемой политике балансировки шеста в задаче CartPole."
      ]
    },
    {
      "cell_type": "code",
      "execution_count": 104,
      "metadata": {
        "id": "t4v0ZbB4FQUs",
        "colab": {
          "base_uri": "https://localhost:8080/",
          "height": 288
        },
        "outputId": "af8ef228-0a6a-4d95-87e5-a6ed94c670df",
        "cellView": "form"
      },
      "outputs": [
        {
          "output_type": "execute_result",
          "data": {
            "text/plain": [
              "<IPython.core.display.HTML object>"
            ],
            "text/html": [
              "\n",
              "<video width=400 controls>\n",
              "      <source src=\"data:video/mp4;base64,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\" type=\"video/mp4\">\n",
              "</video>\n"
            ]
          },
          "metadata": {},
          "execution_count": 104
        }
      ],
      "source": [
        "#@title Визуализация политики\n",
        "#@markdown Выберите номер эпизода, кратный 100 и меньший или равный 1000, и **запустите эту ячейку**.\n",
        "episode_number = 900 #@param {type:\"number\"}\n",
        "\n",
        "assert (episode_number % 100) == 0, \"Episode number must be a multiple of 100 since we only record every 100th episode.\"\n",
        "assert episode_number < 1001, \"Episode number must be less than or equal to 1000\"\n",
        "\n",
        "\n",
        "eval_episode_number = int(episode_number / 100 * 8)\n",
        "video_path = f\"./video/q_learning/eval/rl-video-episode-{eval_episode_number}.mp4\"\n",
        "\n",
        "mp4 = open(video_path,'rb').read()\n",
        "data_url = \"data:video/mp4;base64,\" + b64encode(mp4).decode()\n",
        "HTML(\"\"\"\n",
        "<video width=400 controls>\n",
        "      <source src=\"%s\" type=\"video/mp4\">\n",
        "</video>\n",
        "\"\"\" % data_url)"
      ]
    },
    {
      "cell_type": "markdown",
      "metadata": {
        "id": "fV3YG7QOZD-B"
      },
      "source": [
        "Кроме того, существует множество алгоритмов RL, которые вносят существенные улучшения в REINFORCE и Deep Q-Learning. См. эти ресурсы:\n",
        "* [REINFORCE с базовым уровнем](https://spinningup.openai.com/en/latest/spinningup/rl_intro3.html#baselines-in-policy-gradients)\n",
        "* [Double Deep Q-Network](https://arxiv.org/pdf/1509.06461.pdf)\n",
        "* [Proximal Policy Optimisation (PPO)](https://arxiv.org/pdf/1707.06347.pdf)\n",
        "\n",
        "Если вы ищете более углубленный онлайн-курс по RL, вы можете ознакомиться с этими курсами:\n",
        "* [Reinforcement Learning Foundations on LinkedIn Learning](https://www.linkedin.com/learning/reinforcement-learning-foundations) (создано одним из наших собственных преподавателей, Хаулатом Абдулхакимом)\n",
        "* [Введение в Reinforcement Learning on FreeCodeCamp](https://www.freecodecamp.org/news/an-introduction-to-reinforcement-learning-4339519de419/)\n",
        "* [Специализация обучения с подкреплением на Coursera](https://www.coursera.org/specializations/reinforcement-learning)\n",
        "\n",
        "Наконец, самый влиятельный учебник по обучению с подкреплением доступен бесплатно онлайн:\n",
        "* [Обучение с подкреплением: введение](http://incompleteideas.net/book/the-book-2nd.html) Ричарда С. Саттона и Эндрю Г. Барто\n",
        "\n",
        "\n",
        "**Ссылки:**\n",
        "\n",
        "* [OpenAI Spinning Up](https://spinningup.openai.com/en/latest/)\n",
        "* [Deep Q-Network]()"
      ]
    },
    {
      "cell_type": "code",
      "source": [],
      "metadata": {
        "id": "6V47Vd_i3qk7"
      },
      "execution_count": null,
      "outputs": []
    }
  ],
  "metadata": {
    "colab": {
      "provenance": []
    },
    "kernelspec": {
      "display_name": "Python 3",
      "name": "python3"
    },
    "language_info": {
      "codemirror_mode": {
        "name": "ipython",
        "version": 3
      },
      "file_extension": ".py",
      "mimetype": "text/x-python",
      "name": "python",
      "nbconvert_exporter": "python",
      "pygments_lexer": "ipython3",
      "version": "3.8.13"
    },
    "vscode": {
      "interpreter": {
        "hash": "0f35138c66f99be0fd7a1210bb4aa94a6fbaa5f29d51ad43aec0e0ea0ff050f0"
      }
    }
  },
  "nbformat": 4,
  "nbformat_minor": 0
}